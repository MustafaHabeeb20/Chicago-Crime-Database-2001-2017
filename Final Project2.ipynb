{
 "cells": [
  {
   "cell_type": "code",
   "execution_count": 1,
   "metadata": {},
   "outputs": [],
   "source": [
    "#Final Project - Dated 22 Nov 2019"
   ]
  },
  {
   "cell_type": "code",
   "execution_count": 90,
   "metadata": {},
   "outputs": [],
   "source": [
    "#required libraries\n",
    "import pandas as pd\n",
    "import numpy as np\n",
    "import matplotlib.pyplot as plt\n",
    "import matplotlib.image as mpimg\n",
    "import seaborn as sns\n",
    "import scipy.stats as st\n",
    "import plotly.figure_factory as ff\n",
    "from sklearn.preprocessing import StandardScaler\n",
    "from sklearn.datasets.samples_generator import make_blobs\n",
    "from sklearn.cluster import KMeans, DBSCAN\n",
    "from sklearn.neighbors import KNeighborsClassifier \n",
    "from sklearn import metrics\n",
    "from sklearn.model_selection import train_test_split\n",
    "from IPython.display import IFrame\n",
    "import folium\n",
    "from folium import plugins\n",
    "from folium.plugins import MarkerCluster, FastMarkerCluster, HeatMapWithTime\n",
    "\n",
    "# make sure to run this line to \n",
    "# conda install -c conda-forge folium"
   ]
  },
  {
   "cell_type": "code",
   "execution_count": 2,
   "metadata": {},
   "outputs": [
    {
     "name": "stderr",
     "output_type": "stream",
     "text": [
      "C:\\Users\\ibray\\Anaconda3\\lib\\site-packages\\IPython\\core\\interactiveshell.py:3057: DtypeWarning:\n",
      "\n",
      "Columns (9) have mixed types. Specify dtype option on import or set low_memory=False.\n",
      "\n"
     ]
    }
   ],
   "source": [
    "#import datasets\n",
    "columns = ['Date','Primary Type','Location Description','Arrest','District','Community Area','Year']\n",
    "two1 = pd.read_csv('Chicago_Crimes_2001_to_2004.csv', usecols= columns)\n",
    "two5 = pd.read_csv('Chicago_Crimes_2005_to_2007.csv', usecols= columns)\n",
    "two8 = pd.read_csv('Chicago_Crimes_2008_to_2011.csv', usecols= columns)\n",
    "two12 = pd.read_csv('Chicago_Crimes_2012_to_2017.csv', usecols= columns)\n",
    "community_to_major_section = pd.read_csv('community_to_major_section.csv')"
   ]
  },
  {
   "cell_type": "code",
   "execution_count": 3,
   "metadata": {},
   "outputs": [],
   "source": [
    "#Creating seasons variable\n",
    "\n",
    "#splitting - 1\n",
    "datetimestamp = two1['Date'].str.split(n=1, expand=True)\n",
    "datetimestamp.columns = ['date_id{}'.format(x+1) for x in datetimestamp.columns]\n",
    "two1 = two1.join(datetimestamp)\n",
    "\n",
    "#splitting - 2\n",
    "datetimestamp = two5['Date'].str.split(n=1, expand=True)\n",
    "datetimestamp.columns = ['date_id{}'.format(x+1) for x in datetimestamp.columns]\n",
    "two5 = two5.join(datetimestamp)\n",
    "\n",
    "#splitting - 3\n",
    "datetimestamp = two8['Date'].str.split(n=1, expand=True)\n",
    "datetimestamp.columns = ['date_id{}'.format(x+1) for x in datetimestamp.columns]\n",
    "two8 = two8.join(datetimestamp)\n",
    "\n",
    "#splitting - 4\n",
    "datetimestamp = two12['Date'].str.split(n=1, expand=True)\n",
    "datetimestamp.columns = ['date_id{}'.format(x+1) for x in datetimestamp.columns]\n",
    "two12 = two12.join(datetimestamp)\n",
    "\n",
    "#seasons\n",
    "\n"
   ]
  },
  {
   "cell_type": "code",
   "execution_count": 4,
   "metadata": {},
   "outputs": [],
   "source": [
    "two1[['day','month','year']] = two1.date_id1.str.split('/', expand=True)\n",
    "two5[['day','month','year']] = two5.date_id1.str.split('/', expand=True)\n",
    "two8[['day','month','year']] = two8.date_id1.str.split('/', expand=True)\n",
    "two12[['day','month','year']] = two12.date_id1.str.split('/', expand=True)"
   ]
  },
  {
   "cell_type": "code",
   "execution_count": 5,
   "metadata": {},
   "outputs": [],
   "source": [
    "def replace_check(row):\n",
    "    if row == '06' or row == '07' or row == '08':\n",
    "        val = 'Summer'\n",
    "    elif row == '03' or row == '04' or row == '05':\n",
    "        val = 'Spring'\n",
    "    elif row == '12' or row == '01' or row == '02':\n",
    "        val = 'Winter'\n",
    "    else:\n",
    "        val = 'Fall'\n",
    "    return val"
   ]
  },
  {
   "cell_type": "code",
   "execution_count": 6,
   "metadata": {},
   "outputs": [],
   "source": [
    "#Seasons Initialize\n",
    "\n",
    "two1['Seasons'] = two1.month.apply(replace_check)\n",
    "two5['Seasons'] = two5.month.apply(replace_check)\n",
    "two8['Seasons'] = two8.month.apply(replace_check)\n",
    "two12['Seasons'] = two12.month.apply(replace_check)\n",
    "\n",
    "#Seasons Done"
   ]
  },
  {
   "cell_type": "code",
   "execution_count": 7,
   "metadata": {},
   "outputs": [],
   "source": [
    "#Time Splitting - 1 \n",
    "two1[['hour','minute','second']] = two1.date_id2.str.split(':', expand=True)\n",
    "\n",
    "#Time Splitting - 2 \n",
    "two5[['hour','minute','second']] = two5.date_id2.str.split(':', expand=True)\n",
    "\n",
    "#Time Splitting - 3\n",
    "two8[['hour','minute','second']] = two8.date_id2.str.split(':', expand=True)\n",
    "\n",
    "#Time Splitting - 4\n",
    "two12[['hour','minute','second']] = two12.date_id2.str.split(':', expand=True)"
   ]
  },
  {
   "cell_type": "code",
   "execution_count": 8,
   "metadata": {},
   "outputs": [],
   "source": [
    "#TimeSplit2 - 1\n",
    "two1[['second', 'dayperiod']] = two1.second.str.split(' ', expand=True)\n",
    "\n",
    "#TimeSplit2 - 2\n",
    "two5[['second', 'dayperiod']] = two5.second.str.split(' ', expand=True)\n",
    "\n",
    "#TimeSplit2 - 3\n",
    "two8[['second', 'dayperiod']] = two8.second.str.split(' ', expand=True)\n",
    "\n",
    "#TimeSplit2 - 4\n",
    "two12[['second', 'dayperiod']] = two12.second.str.split(' ', expand=True)"
   ]
  },
  {
   "cell_type": "code",
   "execution_count": 9,
   "metadata": {},
   "outputs": [],
   "source": [
    "def period_replace_check(dayperiod,hour,minute):\n",
    "    try:\n",
    "        if dayperiod == \"AM\":\n",
    "            if int(hour) in [5,6,7,8,9,10,11] and int(minute) in range(0,60):\n",
    "                val = 'Morning'\n",
    "            elif int(hour) in [12,1,2,3,4] and int(minute) in range(0,60):\n",
    "                val = 'Night'\n",
    "        else:\n",
    "            if int(hour) in [5,6,7,8] and int(minute) in range(0,60):\n",
    "                val = 'Evening'\n",
    "            elif int(hour) in [12,1,2,3,4] and int(minute) in range(0,60):\n",
    "                val = 'Noon' \n",
    "            elif int(hour) in [9,10,11] and int(minute) in range(0,60):\n",
    "                val = 'Night'\n",
    "    except:\n",
    "        val = ''\n",
    "    return val"
   ]
  },
  {
   "cell_type": "code",
   "execution_count": 10,
   "metadata": {},
   "outputs": [],
   "source": [
    "#TimePeriod - Initialize"
   ]
  },
  {
   "cell_type": "code",
   "execution_count": 11,
   "metadata": {},
   "outputs": [],
   "source": [
    "two1['TimePeriod'] = two1.apply(lambda x: period_replace_check(x.dayperiod, x.hour, x.minute), axis=1)"
   ]
  },
  {
   "cell_type": "code",
   "execution_count": 12,
   "metadata": {},
   "outputs": [],
   "source": [
    "two5['TimePeriod'] = two5.apply(lambda x: period_replace_check(x.dayperiod, x.hour, x.minute), axis=1)"
   ]
  },
  {
   "cell_type": "code",
   "execution_count": 13,
   "metadata": {},
   "outputs": [],
   "source": [
    "two8['TimePeriod'] = two8.apply(lambda x: period_replace_check(x.dayperiod, x.hour, x.minute), axis=1)"
   ]
  },
  {
   "cell_type": "code",
   "execution_count": 14,
   "metadata": {},
   "outputs": [],
   "source": [
    "two12['TimePeriod'] = two12.apply(lambda x: period_replace_check(x.dayperiod, x.hour, x.minute), axis=1)"
   ]
  },
  {
   "cell_type": "code",
   "execution_count": 15,
   "metadata": {},
   "outputs": [],
   "source": [
    "#TimePeriod - End"
   ]
  },
  {
   "cell_type": "code",
   "execution_count": 16,
   "metadata": {},
   "outputs": [],
   "source": [
    "# Major section - Begin"
   ]
  },
  {
   "cell_type": "code",
   "execution_count": 17,
   "metadata": {},
   "outputs": [],
   "source": [
    "# create dictionary of community areas to major section of chicago using community_to_major_section csv file\n",
    "major_section_dic = community_to_major_section.set_index('Community Area')['Major Section'].to_dict()"
   ]
  },
  {
   "cell_type": "code",
   "execution_count": 18,
   "metadata": {},
   "outputs": [],
   "source": [
    "two1['Major Section'] = two1['Community Area'].replace(major_section_dic)"
   ]
  },
  {
   "cell_type": "code",
   "execution_count": 19,
   "metadata": {},
   "outputs": [],
   "source": [
    "two5['Major Section'] = two5['Community Area'].replace(major_section_dic)"
   ]
  },
  {
   "cell_type": "code",
   "execution_count": 20,
   "metadata": {},
   "outputs": [],
   "source": [
    "two8['Major Section'] = two8['Community Area'].replace(major_section_dic)"
   ]
  },
  {
   "cell_type": "code",
   "execution_count": 21,
   "metadata": {},
   "outputs": [],
   "source": [
    "two12['Major Section'] = two12['Community Area'].replace(major_section_dic)"
   ]
  },
  {
   "cell_type": "code",
   "execution_count": 22,
   "metadata": {},
   "outputs": [],
   "source": [
    "# Major section - End"
   ]
  },
  {
   "cell_type": "code",
   "execution_count": 23,
   "metadata": {},
   "outputs": [
    {
     "data": {
      "text/plain": [
       "{1: 'Far North side',\n",
       " 2: 'Far North side',\n",
       " 3: 'Far North side',\n",
       " 4: 'Far North side',\n",
       " 5: 'North side',\n",
       " 6: 'North side',\n",
       " 7: 'North side',\n",
       " 8: 'Central',\n",
       " 9: 'Far North side',\n",
       " 10: 'Far North side',\n",
       " 11: 'Far North side',\n",
       " 12: 'Far North side',\n",
       " 13: 'Far North side',\n",
       " 14: 'Far North side',\n",
       " 15: 'Northwest side',\n",
       " 16: 'Northwest side',\n",
       " 17: 'Northwest side',\n",
       " 18: 'Northwest side',\n",
       " 19: 'Northwest side',\n",
       " 20: 'Northwest side',\n",
       " 21: 'North side',\n",
       " 22: 'North side',\n",
       " 23: 'West side',\n",
       " 24: 'West side',\n",
       " 25: 'West side',\n",
       " 26: 'West side',\n",
       " 27: 'West side',\n",
       " 28: 'West side',\n",
       " 29: 'West side',\n",
       " 30: 'West side',\n",
       " 31: 'West side',\n",
       " 32: 'Central',\n",
       " 33: 'Central',\n",
       " 34: 'South side',\n",
       " 35: 'South side',\n",
       " 36: 'South side',\n",
       " 37: 'South side',\n",
       " 38: 'South side',\n",
       " 39: 'South side',\n",
       " 40: 'South side',\n",
       " 41: 'South side',\n",
       " 42: 'South side',\n",
       " 43: 'South side',\n",
       " 44: 'Far Southeast side',\n",
       " 45: 'Far Southeast side',\n",
       " 46: 'Far Southeast side',\n",
       " 47: 'Far Southeast side',\n",
       " 48: 'Far Southeast side',\n",
       " 49: 'Far Southeast side',\n",
       " 50: 'Far Southeast side',\n",
       " 51: 'Far Southeast side',\n",
       " 52: 'Far Southeast side',\n",
       " 53: 'Far Southeast side',\n",
       " 54: 'Far Southeast side',\n",
       " 55: 'Far Southeast side',\n",
       " 56: 'Southwest side',\n",
       " 57: 'Southwest side',\n",
       " 58: 'Southwest side',\n",
       " 59: 'Southwest side',\n",
       " 60: 'South side',\n",
       " 61: 'Southwest side',\n",
       " 62: 'Southwest side',\n",
       " 63: 'Southwest side',\n",
       " 64: 'Southwest side',\n",
       " 65: 'Southwest side',\n",
       " 66: 'Southwest side',\n",
       " 67: 'Southwest side',\n",
       " 68: 'Southwest side',\n",
       " 69: 'South side',\n",
       " 70: 'Far Southwest side',\n",
       " 71: 'Far Southwest side',\n",
       " 72: 'Far Southwest side',\n",
       " 73: 'Far Southwest side',\n",
       " 74: 'Far Southwest side',\n",
       " 75: 'Far Southwest side',\n",
       " 76: 'Far North side',\n",
       " 77: 'Far North side'}"
      ]
     },
     "execution_count": 23,
     "metadata": {},
     "output_type": "execute_result"
    }
   ],
   "source": [
    "major_section_dic"
   ]
  },
  {
   "cell_type": "code",
   "execution_count": 24,
   "metadata": {},
   "outputs": [
    {
     "data": {
      "text/plain": [
       "Date                         0\n",
       "Primary Type                 0\n",
       "Location Description      1990\n",
       "Arrest                       0\n",
       "District                    91\n",
       "Community Area          702092\n",
       "Year                         1\n",
       "date_id1                     0\n",
       "date_id2                     1\n",
       "day                          0\n",
       "month                        1\n",
       "year                         1\n",
       "Seasons                      0\n",
       "hour                         1\n",
       "minute                       1\n",
       "second                       1\n",
       "dayperiod                    1\n",
       "TimePeriod                   0\n",
       "Major Section           702092\n",
       "dtype: int64"
      ]
     },
     "execution_count": 24,
     "metadata": {},
     "output_type": "execute_result"
    }
   ],
   "source": [
    "#merge datasets\n",
    "finaldatasets = pd.concat([two1, two5, two8, two12]) \n",
    "finaldatasets.isnull().sum()\n",
    "\n",
    "#finaldatasets = finaldatasets.sample(n=200)"
   ]
  },
  {
   "cell_type": "code",
   "execution_count": 25,
   "metadata": {},
   "outputs": [
    {
     "data": {
      "text/html": [
       "<div>\n",
       "<style scoped>\n",
       "    .dataframe tbody tr th:only-of-type {\n",
       "        vertical-align: middle;\n",
       "    }\n",
       "\n",
       "    .dataframe tbody tr th {\n",
       "        vertical-align: top;\n",
       "    }\n",
       "\n",
       "    .dataframe thead th {\n",
       "        text-align: right;\n",
       "    }\n",
       "</style>\n",
       "<table border=\"1\" class=\"dataframe\">\n",
       "  <thead>\n",
       "    <tr style=\"text-align: right;\">\n",
       "      <th></th>\n",
       "      <th>Date</th>\n",
       "      <th>Primary Type</th>\n",
       "      <th>Location Description</th>\n",
       "      <th>Arrest</th>\n",
       "      <th>District</th>\n",
       "      <th>Community Area</th>\n",
       "      <th>Year</th>\n",
       "      <th>date_id1</th>\n",
       "      <th>date_id2</th>\n",
       "      <th>day</th>\n",
       "      <th>month</th>\n",
       "      <th>year</th>\n",
       "      <th>Seasons</th>\n",
       "      <th>hour</th>\n",
       "      <th>minute</th>\n",
       "      <th>second</th>\n",
       "      <th>dayperiod</th>\n",
       "      <th>TimePeriod</th>\n",
       "      <th>Major Section</th>\n",
       "    </tr>\n",
       "  </thead>\n",
       "  <tbody>\n",
       "    <tr>\n",
       "      <th>0</th>\n",
       "      <td>01/01/2004 12:01:00 AM</td>\n",
       "      <td>THEFT</td>\n",
       "      <td>RESIDENCE</td>\n",
       "      <td>False</td>\n",
       "      <td>4.0</td>\n",
       "      <td>46.0</td>\n",
       "      <td>2004.0</td>\n",
       "      <td>01/01/2004</td>\n",
       "      <td>12:01:00 AM</td>\n",
       "      <td>01</td>\n",
       "      <td>01</td>\n",
       "      <td>2004</td>\n",
       "      <td>Winter</td>\n",
       "      <td>12</td>\n",
       "      <td>01</td>\n",
       "      <td>00</td>\n",
       "      <td>AM</td>\n",
       "      <td>Night</td>\n",
       "      <td>Far Southeast side</td>\n",
       "    </tr>\n",
       "    <tr>\n",
       "      <th>1</th>\n",
       "      <td>03/01/2003 12:00:00 AM</td>\n",
       "      <td>OTHER OFFENSE</td>\n",
       "      <td>RESIDENCE</td>\n",
       "      <td>False</td>\n",
       "      <td>9.0</td>\n",
       "      <td>61.0</td>\n",
       "      <td>2003.0</td>\n",
       "      <td>03/01/2003</td>\n",
       "      <td>12:00:00 AM</td>\n",
       "      <td>03</td>\n",
       "      <td>01</td>\n",
       "      <td>2003</td>\n",
       "      <td>Winter</td>\n",
       "      <td>12</td>\n",
       "      <td>00</td>\n",
       "      <td>00</td>\n",
       "      <td>AM</td>\n",
       "      <td>Night</td>\n",
       "      <td>Southwest side</td>\n",
       "    </tr>\n",
       "    <tr>\n",
       "      <th>2</th>\n",
       "      <td>06/20/2004 11:00:00 AM</td>\n",
       "      <td>OFFENSE INVOLVING CHILDREN</td>\n",
       "      <td>RESIDENCE</td>\n",
       "      <td>False</td>\n",
       "      <td>14.0</td>\n",
       "      <td>22.0</td>\n",
       "      <td>2004.0</td>\n",
       "      <td>06/20/2004</td>\n",
       "      <td>11:00:00 AM</td>\n",
       "      <td>06</td>\n",
       "      <td>20</td>\n",
       "      <td>2004</td>\n",
       "      <td>Fall</td>\n",
       "      <td>11</td>\n",
       "      <td>00</td>\n",
       "      <td>00</td>\n",
       "      <td>AM</td>\n",
       "      <td>Morning</td>\n",
       "      <td>North side</td>\n",
       "    </tr>\n",
       "    <tr>\n",
       "      <th>3</th>\n",
       "      <td>12/30/2004 08:00:00 PM</td>\n",
       "      <td>THEFT</td>\n",
       "      <td>OTHER</td>\n",
       "      <td>False</td>\n",
       "      <td>25.0</td>\n",
       "      <td>20.0</td>\n",
       "      <td>2004.0</td>\n",
       "      <td>12/30/2004</td>\n",
       "      <td>08:00:00 PM</td>\n",
       "      <td>12</td>\n",
       "      <td>30</td>\n",
       "      <td>2004</td>\n",
       "      <td>Fall</td>\n",
       "      <td>08</td>\n",
       "      <td>00</td>\n",
       "      <td>00</td>\n",
       "      <td>PM</td>\n",
       "      <td>Evening</td>\n",
       "      <td>Northwest side</td>\n",
       "    </tr>\n",
       "    <tr>\n",
       "      <th>4</th>\n",
       "      <td>05/01/2003 01:00:00 AM</td>\n",
       "      <td>THEFT</td>\n",
       "      <td>RESIDENCE</td>\n",
       "      <td>False</td>\n",
       "      <td>22.0</td>\n",
       "      <td>49.0</td>\n",
       "      <td>2003.0</td>\n",
       "      <td>05/01/2003</td>\n",
       "      <td>01:00:00 AM</td>\n",
       "      <td>05</td>\n",
       "      <td>01</td>\n",
       "      <td>2003</td>\n",
       "      <td>Winter</td>\n",
       "      <td>01</td>\n",
       "      <td>00</td>\n",
       "      <td>00</td>\n",
       "      <td>AM</td>\n",
       "      <td>Night</td>\n",
       "      <td>Far Southeast side</td>\n",
       "    </tr>\n",
       "  </tbody>\n",
       "</table>\n",
       "</div>"
      ],
      "text/plain": [
       "                     Date                Primary Type Location Description  \\\n",
       "0  01/01/2004 12:01:00 AM                       THEFT            RESIDENCE   \n",
       "1  03/01/2003 12:00:00 AM               OTHER OFFENSE            RESIDENCE   \n",
       "2  06/20/2004 11:00:00 AM  OFFENSE INVOLVING CHILDREN            RESIDENCE   \n",
       "3  12/30/2004 08:00:00 PM                       THEFT                OTHER   \n",
       "4  05/01/2003 01:00:00 AM                       THEFT            RESIDENCE   \n",
       "\n",
       "  Arrest  District  Community Area    Year    date_id1     date_id2 day month  \\\n",
       "0  False       4.0            46.0  2004.0  01/01/2004  12:01:00 AM  01    01   \n",
       "1  False       9.0            61.0  2003.0  03/01/2003  12:00:00 AM  03    01   \n",
       "2  False      14.0            22.0  2004.0  06/20/2004  11:00:00 AM  06    20   \n",
       "3  False      25.0            20.0  2004.0  12/30/2004  08:00:00 PM  12    30   \n",
       "4  False      22.0            49.0  2003.0  05/01/2003  01:00:00 AM  05    01   \n",
       "\n",
       "   year Seasons hour minute second dayperiod TimePeriod       Major Section  \n",
       "0  2004  Winter   12     01     00        AM      Night  Far Southeast side  \n",
       "1  2003  Winter   12     00     00        AM      Night      Southwest side  \n",
       "2  2004    Fall   11     00     00        AM    Morning          North side  \n",
       "3  2004    Fall   08     00     00        PM    Evening      Northwest side  \n",
       "4  2003  Winter   01     00     00        AM      Night  Far Southeast side  "
      ]
     },
     "execution_count": 25,
     "metadata": {},
     "output_type": "execute_result"
    }
   ],
   "source": [
    "finaldatasets.head()"
   ]
  },
  {
   "cell_type": "code",
   "execution_count": 26,
   "metadata": {},
   "outputs": [],
   "source": [
    "# finaldatasets.to_excel(index = False)\n",
    "#export_csv = finaldatasets.to_csv (r'\\Users\\mustafahabeeb\\Desktop\\export_dataframe.csv', index = None, header=True)"
   ]
  },
  {
   "cell_type": "code",
   "execution_count": 27,
   "metadata": {},
   "outputs": [
    {
     "data": {
      "text/plain": [
       "array([46., 61., 22., 20., 49., 29., 50., 73.,  8., 77., 65., 43., 59.,\n",
       "       66., 23., 62., 67., 32., 70., 10., 25., 19., 44., 45., 28., 68.,\n",
       "       30., 40., 11.,  3., 71., 42., 17., 34., 63., 37., 69., 55., 35.,\n",
       "       27., 48., 24., 72., 18., 15., 12.,  6.,  7., 52., 60., 26., 58.,\n",
       "       74., 64.,  5.,  2., 53., 56., 21., 31., 51.,  4., 33., 39., 38.,\n",
       "       16., 41.,  1., 75., 14., 57., 36., 13., 76., 47.,  9., nan, 54.,\n",
       "        0.])"
      ]
     },
     "execution_count": 27,
     "metadata": {},
     "output_type": "execute_result"
    }
   ],
   "source": [
    "finaldatasets['Community Area'].unique()"
   ]
  },
  {
   "cell_type": "code",
   "execution_count": 28,
   "metadata": {},
   "outputs": [
    {
     "data": {
      "text/plain": [
       "36"
      ]
     },
     "execution_count": 28,
     "metadata": {},
     "output_type": "execute_result"
    }
   ],
   "source": [
    "len(finaldatasets['Primary Type'].unique())"
   ]
  },
  {
   "cell_type": "code",
   "execution_count": 29,
   "metadata": {},
   "outputs": [
    {
     "data": {
      "text/plain": [
       "array(['THEFT', 'OTHER OFFENSE', 'OFFENSE INVOLVING CHILDREN',\n",
       "       'CRIM SEXUAL ASSAULT', 'MOTOR VEHICLE THEFT', 'SEX OFFENSE',\n",
       "       'DECEPTIVE PRACTICE', 'BATTERY', 'BURGLARY', 'WEAPONS VIOLATION',\n",
       "       'PUBLIC PEACE VIOLATION', 'NARCOTICS', 'GAMBLING', 'PROSTITUTION',\n",
       "       'LIQUOR LAW VIOLATION', 'INTERFERENCE WITH PUBLIC OFFICER',\n",
       "       'CRIMINAL DAMAGE', 'ASSAULT', 'STALKING', 'ARSON',\n",
       "       'CRIMINAL TRESPASS', 'HOMICIDE', 'ROBBERY', 'OBSCENITY',\n",
       "       'KIDNAPPING', 'INTIMIDATION', 'RITUALISM', 'DOMESTIC VIOLENCE',\n",
       "       'OTHER NARCOTIC VIOLATION', 'PUBLIC INDECENCY', 'NON-CRIMINAL',\n",
       "       'False', 'HUMAN TRAFFICKING', 'CONCEALED CARRY LICENSE VIOLATION',\n",
       "       'NON - CRIMINAL', 'NON-CRIMINAL (SUBJECT SPECIFIED)'], dtype=object)"
      ]
     },
     "execution_count": 29,
     "metadata": {},
     "output_type": "execute_result"
    }
   ],
   "source": [
    "finaldatasets['Primary Type'].unique()"
   ]
  },
  {
   "cell_type": "code",
   "execution_count": 30,
   "metadata": {},
   "outputs": [],
   "source": [
    "finaldatasets['Primary Type'] = finaldatasets['Primary Type'].str.lower()"
   ]
  },
  {
   "cell_type": "code",
   "execution_count": 31,
   "metadata": {},
   "outputs": [],
   "source": [
    "primary_type_dict = {\n",
    "  \"theft\": \"THEFT\",\n",
    "  \"other offense\": \"OFFENSE\",\n",
    "  \"offense involving children\": \"OFFENSE\",\n",
    "  \"crim sexual assault\": \"ASSAULT\",\n",
    "  \"motor vehicle theft\": \"THEFT\",\n",
    "  \"sex offense\": \"OFFENSE\",\n",
    "  \"deceptive practice\": \"OTHER\",\n",
    "  \"battery\": \"ASSAULT\",\n",
    "  \"burglary\": \"THEFT\",\n",
    "  \"weapons violation\": \"VIOLATION\",\n",
    "  \"public peace violation\": \"VIOLATION\",\n",
    "  \"gambling\": \"WHITE COLLAR CRIME\",\n",
    "  \"prostitution\": \"WHITE COLLAR CRIME\",\n",
    "  \"liquor law violation\": \"VIOLATION\",\n",
    "  \"interference with public officer\": \"VIOLATION\",\n",
    "  \"criminal damage\": \"DAMAGES\",\n",
    "  \"assault\": \"ASSAULT\",\n",
    "  \"stalking\": \"VIOLATION\",\n",
    "  \"arson\": \"DAMAGES\",\n",
    "  \"criminal trespass\": \"VIOLATION\",\n",
    "  \"homicide\": \"MURDER\",\n",
    "  \"obscenity\": \"OTHER\",\n",
    "  \"kidnapping\": \"KIDNAPPING\",\n",
    "  \"intimidation\": \"ASSAULT\",\n",
    "  \"ritualism\": \"OTHER\",\n",
    "  \"domestic violence\": \"ASSAULT\",\n",
    "  \"other narcotic violation\": \"WHITE COLLAR CRIME\",\n",
    "  \"public indecency\": \"VIOLATION\",\n",
    "  \"non-criminal\": \"OTHER\",\n",
    "  \"false\": \"OTHER\",\n",
    "  \"human trafficking\": \"KIDNAPPING\",\n",
    "  \"concealed carry license violation\": \"OTHER\",\n",
    "  \"non - criminal\": \"OTHER\",\n",
    "  \"non-criminal (subject specified)\": \"OTHER\",\n",
    "  \"robbery\":\"THEFT\",\n",
    "  \"narcotics\":\"WHITE COLLAR CRIME\"  \n",
    "}"
   ]
  },
  {
   "cell_type": "code",
   "execution_count": 32,
   "metadata": {},
   "outputs": [],
   "source": [
    "finaldatasets['Primary Crime Type'] = finaldatasets['Primary Type'].replace(primary_type_dict)"
   ]
  },
  {
   "cell_type": "code",
   "execution_count": 33,
   "metadata": {},
   "outputs": [
    {
     "data": {
      "text/plain": [
       "array(['RESIDENCE', 'OTHER', 'APARTMENT', 'RESIDENCE PORCH/HALLWAY',\n",
       "       'GAS STATION', 'COMMERCIAL / BUSINESS OFFICE', 'STREET', 'BANK',\n",
       "       'SMALL RETAIL STORE', 'DEPARTMENT STORE', 'SIDEWALK',\n",
       "       'APPLIANCE STORE', 'HOTEL/MOTEL', 'MEDICAL/DENTAL OFFICE',\n",
       "       'PARKING LOT/GARAGE(NON.RESID.)', 'ALLEY',\n",
       "       'CHURCH/SYNAGOGUE/PLACE OF WORSHIP', 'DAY CARE CENTER',\n",
       "       'RESTAURANT', 'COLLEGE/UNIVERSITY GROUNDS',\n",
       "       'SCHOOL, PUBLIC, BUILDING', 'HOSPITAL BUILDING/GROUNDS',\n",
       "       'WAREHOUSE', 'FACTORY/MANUFACTURING BUILDING',\n",
       "       'SCHOOL, PRIVATE, GROUNDS', 'GROCERY FOOD STORE', 'CHA APARTMENT',\n",
       "       'SCHOOL, PUBLIC, GROUNDS', 'VEHICLE NON-COMMERCIAL',\n",
       "       'GOVERNMENT BUILDING/PROPERTY', 'AIRPORT/AIRCRAFT',\n",
       "       'ATM (AUTOMATIC TELLER MACHINE)', 'VACANT LOT/LAND',\n",
       "       'POLICE FACILITY/VEH PARKING LOT', 'TAVERN/LIQUOR STORE',\n",
       "       'CHA HALLWAY/STAIRWELL/ELEVATOR', 'RESIDENCE-GARAGE',\n",
       "       'PARK PROPERTY', 'CHA PARKING LOT/GROUNDS', 'ABANDONED BUILDING',\n",
       "       'SCHOOL, PRIVATE, BUILDING', 'CURRENCY EXCHANGE', 'BARBERSHOP',\n",
       "       'NURSING HOME/RETIREMENT HOME', 'CHA STAIRWELL', 'AUTO',\n",
       "       'BASEMENT', 'ANIMAL HOSPITAL', 'RESIDENTIAL YARD (FRONT/BACK)',\n",
       "       'JAIL / LOCK-UP FACILITY', 'RETAIL STORE', 'TAVERN',\n",
       "       'GAS STATION DRIVE/PROP.', 'FEDERAL BUILDING', 'HOTEL', 'HALLWAY',\n",
       "       'TRUCK', 'GANGWAY', 'POOL ROOM', 'PARKING LOT', 'HOUSE',\n",
       "       'COACH HOUSE', 'PORCH', 'CLUB', 'VACANT LOT', 'ATHLETIC CLUB',\n",
       "       'YARD', 'AIRPORT BUILDING NON-TERMINAL - SECURE AREA', 'CAR WASH',\n",
       "       'CHA PARKING LOT', 'LOADING DOCK', 'CHA ELEVATOR', 'LAKE',\n",
       "       'RAILROAD PROPERTY', 'CTA GARAGE / OTHER PROPERTY', 'VESTIBULE',\n",
       "       'CHA HALLWAY', 'AIRPORT TERMINAL UPPER LEVEL - SECURE AREA',\n",
       "       'DUMPSTER', 'GARAGE', 'FOREST PRESERVE', 'BAR OR TAVERN',\n",
       "       'COLLEGE/UNIVERSITY RESIDENCE HALL', 'CHA PLAY LOT', 'CHA GROUNDS',\n",
       "       'HOSPITAL', 'RIVER', 'FIRE STATION', 'DRUG STORE', 'CTA BUS',\n",
       "       'CTA PLATFORM', 'HIGHWAY/EXPRESSWAY', 'CLEANING STORE',\n",
       "       'DRIVEWAY - RESIDENTIAL', 'OTHER RAILROAD PROP / TRAIN DEPOT',\n",
       "       'CTA TRAIN', 'VEHICLE-COMMERCIAL',\n",
       "       'OTHER COMMERCIAL TRANSPORTATION', 'LIBRARY', 'DELIVERY TRUCK',\n",
       "       'CEMETARY', 'CONSTRUCTION SITE', 'BOAT/WATERCRAFT',\n",
       "       'SPORTS ARENA/STADIUM', 'LAKEFRONT/WATERFRONT/RIVERBANK',\n",
       "       'TAXICAB', 'WOODED AREA', 'COUNTY JAIL', 'STAIRWELL', 'YMCA',\n",
       "       'CHURCH PROPERTY', 'MOVIE HOUSE/THEATER', 'BOWLING ALLEY',\n",
       "       'COIN OPERATED MACHINE', 'SAVINGS AND LOAN', 'SEWER',\n",
       "       'LIVERY STAND OFFICE', 'GARAGE/AUTO REPAIR', 'CREDIT UNION',\n",
       "       'CHURCH', 'CHA BREEZEWAY', 'NEWSSTAND', 'BRIDGE', 'CHA LOBBY', nan,\n",
       "       'PRAIRIE', 'DRIVEWAY', 'PUBLIC GRAMMAR SCHOOL',\n",
       "       'JUNK YARD/GARBAGE DUMP', 'SCHOOL YARD', 'FUNERAL PARLOR',\n",
       "       'OFFICE', 'LIQUOR STORE', 'BARBER SHOP/BEAUTY SALON', 'TAXI CAB',\n",
       "       'CTA \"L\" TRAIN', 'PUBLIC HIGH SCHOOL', 'TRUCKING TERMINAL',\n",
       "       'FACTORY', 'TRAILER', 'MOTEL', 'CTA PROPERTY', 'CONVENIENCE STORE',\n",
       "       'LAUNDRY ROOM', 'PAWN SHOP', 'AIRPORT PARKING LOT',\n",
       "       'AIRPORT TERMINAL MEZZANINE - NON-SECURE AREA', 'LIVERY AUTO',\n",
       "       'RIVER BANK', 'BANQUET HALL', 'VEHICLE - DELIVERY TRUCK',\n",
       "       'ROOMING HOUSE', 'AIRCRAFT', 'CTA BUS STOP',\n",
       "       'AIRPORT TERMINAL LOWER LEVEL - SECURE AREA',\n",
       "       'AIRPORT EXTERIOR - SECURE AREA',\n",
       "       'AIRPORT EXTERIOR - NON-SECURE AREA',\n",
       "       'AIRPORT TERMINAL LOWER LEVEL - NON-SECURE AREA',\n",
       "       'AIRPORT TERMINAL UPPER LEVEL - NON-SECURE AREA',\n",
       "       'AIRPORT VENDING ESTABLISHMENT',\n",
       "       'AIRPORT BUILDING NON-TERMINAL - NON-SECURE AREA',\n",
       "       'AIRPORT TRANSPORTATION SYSTEM (ATS)', '1134', 'NURSING HOME',\n",
       "       'CTA \"L\" PLATFORM', 'CTA STATION', 'VEHICLE - OTHER RIDE SERVICE',\n",
       "       'CTA TRACKS - RIGHT OF WAY', 'ELEVATOR', 'CLEANERS/LAUNDROMAT',\n",
       "       'EXPRESSWAY EMBANKMENT', 'GOVERNMENT BUILDING', 'POOLROOM',\n",
       "       'LAGOON'], dtype=object)"
      ]
     },
     "execution_count": 33,
     "metadata": {},
     "output_type": "execute_result"
    }
   ],
   "source": [
    "finaldatasets['Location Description'].unique()"
   ]
  },
  {
   "cell_type": "code",
   "execution_count": 34,
   "metadata": {},
   "outputs": [],
   "source": [
    "finaldatasets['Location Description'] = finaldatasets['Location Description'].str.lower()"
   ]
  },
  {
   "cell_type": "code",
   "execution_count": 35,
   "metadata": {},
   "outputs": [],
   "source": [
    "location_dict = {'residence': 'RESIDENTIAL',\n",
    " 'other': 'OTHER',\n",
    " 'apartment': 'RESIDENTIAL',\n",
    " 'residence porch/hallway': 'RESIDENTIAL',\n",
    " 'gas station': 'COMMERCIAL',\n",
    " 'commercial / business office': 'COMMERCIAL',\n",
    " 'street': 'PUBLIC',\n",
    " 'bank': 'PUBLIC',\n",
    " 'small retail store': 'COMMERCIAL',\n",
    " 'department store': 'COMMERCIAL',\n",
    " 'sidewalk': 'PUBLIC',\n",
    " 'appliance store': 'COMMERCIAL',\n",
    " 'hotel/motel': 'PUBLIC',\n",
    " 'medical/dental office': 'HEALTHCARE FACILITY',\n",
    " 'parking lot/garage(non.resid.)': 'PUBLIC',\n",
    " 'alley': 'PUBLIC',\n",
    " 'church/synagogue/place of worship': 'PLACE OF WORSHIP',\n",
    " 'day care center': 'EDUCATION',\n",
    " 'restaurant': 'COMMERCIAL',\n",
    " 'college/university grounds': 'EDUCATION',\n",
    " 'school, public, building': 'EDUCATION',\n",
    " 'hospital building/grounds': 'HEALTHCARE FACILITY',\n",
    " 'warehouse': 'PRIVATE',\n",
    " 'factory/manufacturing building': 'PRIVATE',\n",
    " 'school, private, grounds': 'EDUCATION',\n",
    " 'grocery food store': 'COMMERCIAL',\n",
    " 'cha apartment': 'RESIDENTIAL',\n",
    " 'school, public, grounds': 'EDUCATION',\n",
    " 'vehicle non-commercial': 'PRIVATE',\n",
    " 'government building/property': 'GOVERNMENT',\n",
    " 'airport/aircraft': 'PRIVATE',\n",
    " 'atm (automatic teller machine)': 'PUBLIC',\n",
    " 'vacant lot/land': 'PRIVATE',\n",
    " 'police facility/veh parking lot': 'GOVERNMENT',\n",
    " 'tavern/liquor store': 'COMMERCIAL',\n",
    " 'cha hallway/stairwell/elevator': 'RESIDENTIAL',\n",
    " 'residence-garage': 'RESIDENTIAL',\n",
    " 'park property': 'GOVERNMENT',\n",
    " 'cha parking lot/grounds': 'RESIDENTIAL',\n",
    " 'abandoned building': 'PRIVATE',\n",
    " 'school, private, building': 'EDUCATION',\n",
    " 'currency exchange': 'COMMERCIAL',\n",
    " 'barbershop': 'COMMERCIAL',\n",
    " 'nursing home/retirement home': 'PUBLIC',\n",
    " 'cha stairwell': 'RESIDENTIAL',\n",
    " 'auto': 'OTHER',\n",
    " 'basement': 'PRIVATE',\n",
    " 'animal hospital': 'HEALTHCARE FACILITY',\n",
    " 'residential yard (front/back)': 'RESIDENTIAL',\n",
    " 'jail / lock-up facility': 'GOVERNMENT',\n",
    " 'retail store': 'COMMERCIAL',\n",
    " 'tavern': 'COMMERCIAL',\n",
    " 'gas station drive/prop.': 'COMMERCIAL',\n",
    " 'federal building': 'GOVERNMENT',\n",
    " 'hotel': 'PUBLIC',\n",
    " 'hallway': 'PUBLIC',\n",
    " 'truck': 'PRIVATE',\n",
    " 'gangway': 'OTHER',\n",
    " 'pool room': 'PRIVATE',\n",
    " 'parking lot': 'PUBLIC',\n",
    " 'house': 'RESIDENTIAL',\n",
    " 'coach house': 'RESIDENTIAL',\n",
    " 'porch': 'RESIDENTIAL',\n",
    " 'club': 'COMMERCIAL',\n",
    " 'vacant lot': 'PRIVATE',\n",
    " 'athletic club': 'COMMERCIAL',\n",
    " 'yard': 'RESIDENTIAL',\n",
    " 'airport building non-terminal - secure area': 'PUBLIC',\n",
    " 'car wash': 'COMMERCIAL',\n",
    " 'cha parking lot': 'RESIDENTIAL',\n",
    " 'loading dock': 'PRIVATE',\n",
    " 'cha elevator': 'RESIDENTIAL',\n",
    " 'lake': 'PUBLIC',\n",
    " 'railroad property': 'PRIVATE',\n",
    " 'cta garage / other property': 'PUBLIC',\n",
    " 'vestibule': 'OTHER',\n",
    " 'cha hallway': 'RESIDENTIAL',\n",
    " 'airport terminal upper level - secure area': 'PUBLIC',\n",
    " 'dumpster': 'PUBLIC',\n",
    " 'garage': 'PUBLIC',\n",
    " 'forest preserve': 'PRIVATE',\n",
    " 'bar or tavern': 'COMMERCIAL',\n",
    " 'college/university residence hall': 'EDUCATION',\n",
    " 'cha play lot': 'RESIDENTIAL',\n",
    " 'cha grounds': 'RESIDENTIAL',\n",
    " 'hospital': 'HEALTHCARE FACILITY',\n",
    " 'river': 'GOVERNMENT',\n",
    " 'fire station': 'GOVERNMENT',\n",
    " 'drug store': 'COMMERCIAL',\n",
    " 'cta bus': 'PUBLIC',\n",
    " 'cta platform': 'PUBLIC',\n",
    " 'highway/expressway': 'PUBLIC',\n",
    " 'cleaning store': 'COMMERCIAL',\n",
    " 'driveway - residential': 'RESIDENTIAL',\n",
    " 'other railroad prop / train depot': 'PRIVATE',\n",
    " 'cta train': 'PUBLIC',\n",
    " 'vehicle-commercial': 'COMMERCIAL',\n",
    " 'other commercial transportation': 'COMMERCIAL',\n",
    " 'library': 'PUBLIC',\n",
    " 'delivery truck': 'PRIVATE',\n",
    " 'cemetary': 'PRIVATE',\n",
    " 'construction site': 'PRIVATE',\n",
    " 'boat/watercraft': 'PRIVATE',\n",
    " 'sports arena/stadium': 'PRIVATE',\n",
    " 'lakefront/waterfront/riverbank': 'GOVERNMENT',\n",
    " 'taxicab': 'PRIVATE',\n",
    " 'wooded area': 'PRIVATE',\n",
    " 'county jail': 'GOVERNMENT',\n",
    " 'stairwell': 'PUBLIC',\n",
    " 'ymca': 'PUBLIC',\n",
    " 'church property': 'PLACE OF WORSHIP',\n",
    " 'movie house/theater': 'COMMERCIAL',\n",
    " 'bowling alley': 'COMMERCIAL',\n",
    " 'coin operated machine': 'PUBLIC',\n",
    " 'savings and loan': 'PRIVATE',\n",
    " 'sewer': 'GOVERNMENT',\n",
    " 'livery stand office': 'OTHER',\n",
    " 'garage/auto repair': 'COMMERCIAL',\n",
    " 'credit union': 'PUBLIC',\n",
    " 'church': 'PLACE OF WORSHIP',\n",
    " 'cha breezeway': 'RESIDENTIAL',\n",
    " 'newsstand': 'COMMERCIAL',\n",
    " 'bridge': 'PUBLIC',\n",
    " 'cha lobby': 'RESIDENTIAL',\n",
    " None: '',\n",
    " 'prairie': 'GOVERNMENT',\n",
    " 'driveway': 'PRIVATE',\n",
    " 'public grammar school': 'EDUCATION',\n",
    " 'junk yard/garbage dump': 'GOVERNMENT',\n",
    " 'school yard': 'EDUCATION',\n",
    " 'funeral parlor': 'COMMERCIAL',\n",
    " 'office': 'PRIVATE',\n",
    " 'liquor store': 'COMMERCIAL',\n",
    " 'barber shop/beauty salon': 'COMMERCIAL',\n",
    " 'taxi cab': 'PRIVATE',\n",
    " 'cta \"l\" train': 'PUBLIC',\n",
    " 'public high school': 'EDUCATION',\n",
    " 'trucking terminal': 'PRIVATE',\n",
    " 'factory': 'PRIVATE',\n",
    " 'trailer': 'PRIVATE',\n",
    " 'motel': 'PUBLIC',\n",
    " 'cta property': 'GOVERNMENT',\n",
    " 'convenience store': 'COMMERCIAL',\n",
    " 'laundry room': 'COMMERCIAL',\n",
    " 'pawn shop': 'COMMERCIAL',\n",
    " 'airport parking lot': 'PUBLIC',\n",
    " 'airport terminal mezzanine - non-secure area': 'PUBLIC',\n",
    " 'livery auto': 'OTHER',\n",
    " 'river bank': 'GOVERNMENT',\n",
    " 'banquet hall': 'PRIVATE',\n",
    " 'vehicle - delivery truck': 'PRIVATE',\n",
    " 'rooming house': 'PUBLIC',\n",
    " 'aircraft': 'PRIVATE',\n",
    " 'cta bus stop': 'PUBLIC',\n",
    " 'airport terminal lower level - secure area': 'PRIVATE',\n",
    " 'airport exterior - secure area': 'PRIVATE',\n",
    " 'airport exterior - non-secure area': 'PUBLIC',\n",
    " 'airport terminal lower level - non-secure area': 'PUBLIC',\n",
    " 'airport terminal upper level - non-secure area': 'PUBLIC',\n",
    " 'airport vending establishment': 'PUBLIC',\n",
    " 'airport building non-terminal - non-secure area': 'PUBLIC',\n",
    " 'airport transportation system (ats)': 'PRIVATE',\n",
    " '1134': 'OTHER',\n",
    " 'nursing home': 'PRIVATE',\n",
    " 'cta \"l\" platform': 'PUBLIC',\n",
    " 'cta station': 'PUBLIC',\n",
    " 'vehicle - other ride service': 'PRIVATE',\n",
    " 'cta tracks - right of way': 'PUBLIC',\n",
    " 'elevator': 'PRIVATE',\n",
    " 'cleaners/laundromat': 'COMMERCIAL',\n",
    " 'expressway embankment': 'PUBLIC',\n",
    " 'government building': 'GOVERNMENT',\n",
    " 'poolroom': 'PRIVATE',\n",
    " 'lagoon': 'GOVERNMENT'}"
   ]
  },
  {
   "cell_type": "code",
   "execution_count": 36,
   "metadata": {},
   "outputs": [],
   "source": [
    "finaldatasets['Loc Type'] = finaldatasets['Location Description'].replace(location_dict)"
   ]
  },
  {
   "cell_type": "code",
   "execution_count": 37,
   "metadata": {},
   "outputs": [
    {
     "data": {
      "text/plain": [
       "array(['RESIDENTIAL', 'OTHER', 'COMMERCIAL', 'PUBLIC',\n",
       "       'HEALTHCARE FACILITY', 'PLACE OF WORSHIP', 'EDUCATION', 'PRIVATE',\n",
       "       'GOVERNMENT', ''], dtype=object)"
      ]
     },
     "execution_count": 37,
     "metadata": {},
     "output_type": "execute_result"
    }
   ],
   "source": [
    "finaldatasets['Loc Type'].unique()"
   ]
  },
  {
   "cell_type": "code",
   "execution_count": 38,
   "metadata": {},
   "outputs": [
    {
     "data": {
      "text/html": [
       "<div>\n",
       "<style scoped>\n",
       "    .dataframe tbody tr th:only-of-type {\n",
       "        vertical-align: middle;\n",
       "    }\n",
       "\n",
       "    .dataframe tbody tr th {\n",
       "        vertical-align: top;\n",
       "    }\n",
       "\n",
       "    .dataframe thead th {\n",
       "        text-align: right;\n",
       "    }\n",
       "</style>\n",
       "<table border=\"1\" class=\"dataframe\">\n",
       "  <thead>\n",
       "    <tr style=\"text-align: right;\">\n",
       "      <th></th>\n",
       "      <th>District</th>\n",
       "      <th>Community Area</th>\n",
       "      <th>Year</th>\n",
       "    </tr>\n",
       "  </thead>\n",
       "  <tbody>\n",
       "    <tr>\n",
       "      <th>count</th>\n",
       "      <td>7.941195e+06</td>\n",
       "      <td>7.239194e+06</td>\n",
       "      <td>7.941285e+06</td>\n",
       "    </tr>\n",
       "    <tr>\n",
       "      <th>mean</th>\n",
       "      <td>1.131215e+01</td>\n",
       "      <td>3.774790e+01</td>\n",
       "      <td>2.007672e+03</td>\n",
       "    </tr>\n",
       "    <tr>\n",
       "      <th>std</th>\n",
       "      <td>6.944523e+00</td>\n",
       "      <td>2.156597e+01</td>\n",
       "      <td>4.123451e+00</td>\n",
       "    </tr>\n",
       "    <tr>\n",
       "      <th>min</th>\n",
       "      <td>1.000000e+00</td>\n",
       "      <td>0.000000e+00</td>\n",
       "      <td>4.178983e+01</td>\n",
       "    </tr>\n",
       "    <tr>\n",
       "      <th>25%</th>\n",
       "      <td>6.000000e+00</td>\n",
       "      <td>2.300000e+01</td>\n",
       "      <td>2.005000e+03</td>\n",
       "    </tr>\n",
       "    <tr>\n",
       "      <th>50%</th>\n",
       "      <td>1.000000e+01</td>\n",
       "      <td>3.200000e+01</td>\n",
       "      <td>2.008000e+03</td>\n",
       "    </tr>\n",
       "    <tr>\n",
       "      <th>75%</th>\n",
       "      <td>1.700000e+01</td>\n",
       "      <td>5.800000e+01</td>\n",
       "      <td>2.010000e+03</td>\n",
       "    </tr>\n",
       "    <tr>\n",
       "      <th>max</th>\n",
       "      <td>3.100000e+01</td>\n",
       "      <td>7.700000e+01</td>\n",
       "      <td>2.017000e+03</td>\n",
       "    </tr>\n",
       "  </tbody>\n",
       "</table>\n",
       "</div>"
      ],
      "text/plain": [
       "           District  Community Area          Year\n",
       "count  7.941195e+06    7.239194e+06  7.941285e+06\n",
       "mean   1.131215e+01    3.774790e+01  2.007672e+03\n",
       "std    6.944523e+00    2.156597e+01  4.123451e+00\n",
       "min    1.000000e+00    0.000000e+00  4.178983e+01\n",
       "25%    6.000000e+00    2.300000e+01  2.005000e+03\n",
       "50%    1.000000e+01    3.200000e+01  2.008000e+03\n",
       "75%    1.700000e+01    5.800000e+01  2.010000e+03\n",
       "max    3.100000e+01    7.700000e+01  2.017000e+03"
      ]
     },
     "execution_count": 38,
     "metadata": {},
     "output_type": "execute_result"
    }
   ],
   "source": [
    "finaldatasets.describe()"
   ]
  },
  {
   "cell_type": "code",
   "execution_count": 39,
   "metadata": {},
   "outputs": [
    {
     "data": {
      "text/plain": [
       "Index(['Date', 'Primary Type', 'Location Description', 'Arrest', 'District',\n",
       "       'Community Area', 'Year', 'date_id1', 'date_id2', 'day', 'month',\n",
       "       'year', 'Seasons', 'hour', 'minute', 'second', 'dayperiod',\n",
       "       'TimePeriod', 'Major Section', 'Primary Crime Type', 'Loc Type'],\n",
       "      dtype='object')"
      ]
     },
     "execution_count": 39,
     "metadata": {},
     "output_type": "execute_result"
    }
   ],
   "source": [
    "finaldatasets.head()\n",
    "finaldatasets.columns"
   ]
  },
  {
   "cell_type": "code",
   "execution_count": 40,
   "metadata": {},
   "outputs": [
    {
     "data": {
      "text/plain": [
       "Date                    03/01/2003 12:00:00 AM\n",
       "Primary Type                     other offense\n",
       "Location Description                 residence\n",
       "Arrest                                   False\n",
       "District                                     9\n",
       "Community Area                              61\n",
       "Year                                      2003\n",
       "date_id1                            03/01/2003\n",
       "date_id2                           12:00:00 AM\n",
       "day                                         03\n",
       "month                                       01\n",
       "year                                      2003\n",
       "Seasons                                 Winter\n",
       "hour                                        12\n",
       "minute                                      00\n",
       "second                                      00\n",
       "dayperiod                                   AM\n",
       "TimePeriod                               Night\n",
       "Major Section                   Southwest side\n",
       "Primary Crime Type                     OFFENSE\n",
       "Loc Type                           RESIDENTIAL\n",
       "Name: 1, dtype: object"
      ]
     },
     "execution_count": 40,
     "metadata": {},
     "output_type": "execute_result"
    }
   ],
   "source": [
    "finaldatasets.iloc[1]"
   ]
  },
  {
   "cell_type": "code",
   "execution_count": 41,
   "metadata": {},
   "outputs": [
    {
     "name": "stdout",
     "output_type": "stream",
     "text": [
      "<class 'pandas.core.frame.DataFrame'>\n",
      "Int64Index: 7941286 entries, 0 to 1456713\n",
      "Data columns (total 21 columns):\n",
      "Date                    object\n",
      "Primary Type            object\n",
      "Location Description    object\n",
      "Arrest                  object\n",
      "District                float64\n",
      "Community Area          float64\n",
      "Year                    float64\n",
      "date_id1                object\n",
      "date_id2                object\n",
      "day                     object\n",
      "month                   object\n",
      "year                    object\n",
      "Seasons                 object\n",
      "hour                    object\n",
      "minute                  object\n",
      "second                  object\n",
      "dayperiod               object\n",
      "TimePeriod              object\n",
      "Major Section           object\n",
      "Primary Crime Type      object\n",
      "Loc Type                object\n",
      "dtypes: float64(3), object(18)\n",
      "memory usage: 1.3+ GB\n"
     ]
    }
   ],
   "source": [
    "finaldatasets.info()\n",
    "#The columns that are used are \n",
    "#[Date, Year, TimePeriod, Primary Crime Type, Arrest, Community Area, District, Major Section, Loc Type]"
   ]
  },
  {
   "cell_type": "code",
   "execution_count": 42,
   "metadata": {},
   "outputs": [
    {
     "data": {
      "image/png": "[encoded data removed]",
      "text/plain": [
       "<Figure size 432x288 with 1 Axes>"
      ]
     },
     "metadata": {},
     "output_type": "display_data"
    }
   ],
   "source": [
    "#Number of crimes committed in 2001 - 2017\n",
    "#For Final Dataset\n",
    "\n",
    "labels = ['Morning', 'Noon', 'Evening', 'Night']\n",
    "sizes = [len(finaldatasets[finaldatasets['TimePeriod'] == 'Morning']),len(finaldatasets[finaldatasets['TimePeriod'] == 'Noon']),len(finaldatasets[finaldatasets['TimePeriod'] == 'Evening']),len(finaldatasets[finaldatasets['TimePeriod'] == 'Night'])]\n",
    "fig1, ax1 = plt.subplots()\n",
    "patches, texts, autotexts = ax1.pie(sizes, labels=labels, autopct='%1.1f%%', startangle=90)\n",
    "\n",
    "for text in texts:\n",
    "    text.set_color('grey')\n",
    "for autotext in autotexts:\n",
    "    autotext.set_color('white')\n",
    "# Equal aspect ratio ensures that pie is drawn as a circle\n",
    "ax1.axis('equal')  \n",
    "plt.tight_layout()\n",
    "plt.show()\n",
    "\n"
   ]
  },
  {
   "cell_type": "code",
   "execution_count": 43,
   "metadata": {},
   "outputs": [
    {
     "data": {
      "image/png": "[encoded data removed]",
      "text/plain": [
       "<Figure size 432x288 with 4 Axes>"
      ]
     },
     "metadata": {},
     "output_type": "display_data"
    }
   ],
   "source": [
    "#Number of crimes committed in 2001 - 2004, 05-07,08-11,12-17\n",
    "\n",
    "labels = ['Morning', 'Noon', 'Evening', 'Night']\n",
    "sizes1 = [len(two1[two1['TimePeriod'] == 'Morning']),len(two1[two1['TimePeriod'] == 'Noon']),len(two1[two1['TimePeriod'] == 'Evening']),len(two1[two1['TimePeriod'] == 'Night'])]\n",
    "sizes2 = [len(two5[two5['TimePeriod'] == 'Morning']),len(two5[two5['TimePeriod'] == 'Noon']),len(two5[two5['TimePeriod'] == 'Evening']),len(two5[two5['TimePeriod'] == 'Night'])]\n",
    "sizes3 = [len(two8[two8['TimePeriod'] == 'Morning']),len(two8[two8['TimePeriod'] == 'Noon']),len(two8[two8['TimePeriod'] == 'Evening']),len(two8[two8['TimePeriod'] == 'Night'])]\n",
    "sizes4 = [len(two12[two12['TimePeriod'] == 'Morning']),len(two12[two12['TimePeriod'] == 'Noon']),len(two12[two12['TimePeriod'] == 'Evening']),len(two12[two12['TimePeriod'] == 'Night'])]\n",
    "# Make figure and axes\n",
    "fig, axs = plt.subplots(2, 2)\n",
    "\n",
    "# A standard pie plot\n",
    "axs[0, 0].pie(sizes1, labels=labels, autopct='%.0f%%', shadow=True)\n",
    "axs[0,0].set_title(\"2001-2004\")\n",
    "\n",
    "\n",
    "# Shift the second slice using explode\n",
    "axs[0, 1].pie(sizes2, labels=labels, autopct='%.0f%%', shadow=True,\n",
    "             )\n",
    "axs[0,1].set_title(\"2005-2007\")\n",
    "\n",
    "# Adapt radius and text size for a smaller pie\n",
    "patches, texts, autotexts = axs[1, 0].pie(sizes3, labels=labels,\n",
    "                                          autopct='%.0f%%',\n",
    "                                          shadow=True )\n",
    "axs[1,0].set_title(\"2008-2011\")\n",
    "# Make percent texts even smaller\n",
    "plt.setp(autotexts, size='x-small')\n",
    "autotexts[0].set_color('white')\n",
    "\n",
    "# Use a smaller explode and turn of the shadow for better visibility\n",
    "patches, texts, autotexts = axs[1, 1].pie(sizes4, labels=labels,\n",
    "                                          autopct='%.0f%%',\n",
    "                                          shadow=False\n",
    "                                        )\n",
    "axs[1,1].set_title(\"2012-2017\")\n",
    "plt.setp(autotexts, size='x-small')\n",
    "autotexts[0].set_color('white')\n",
    "\n",
    "plt.show()"
   ]
  },
  {
   "cell_type": "code",
   "execution_count": 44,
   "metadata": {},
   "outputs": [
    {
     "data": {
      "image/png": "[encoded data removed]",
      "text/plain": [
       "<Figure size 432x288 with 4 Axes>"
      ]
     },
     "metadata": {},
     "output_type": "display_data"
    }
   ],
   "source": [
    "#Number of crimes committed in 2001 - 2004\n",
    "\n",
    "labels = ['Morning', 'Noon', 'Evening', 'Night']\n",
    "one = finaldatasets[finaldatasets['year'] == '2001']\n",
    "two = finaldatasets[finaldatasets['year'] == '2002']\n",
    "three = finaldatasets[finaldatasets['year'] == '2003']\n",
    "four = finaldatasets[finaldatasets['year'] == '2004']\n",
    "sizes1 = [len(one[one['TimePeriod'] == 'Morning']),len(one[one['TimePeriod'] == 'Noon']),len(one[one['TimePeriod'] == 'Evening']),len(one[one['TimePeriod'] == 'Night'])]\n",
    "sizes2 = [len(two[two['TimePeriod'] == 'Morning']),len(two[two['TimePeriod'] == 'Noon']),len(two[two['TimePeriod'] == 'Evening']),len(two[two['TimePeriod'] == 'Night'])]\n",
    "sizes3 = [len(three[three['TimePeriod'] == 'Morning']),len(three[three['TimePeriod'] == 'Noon']),len(three[three['TimePeriod'] == 'Evening']),len(three[three['TimePeriod'] == 'Night'])]\n",
    "sizes4 = [len(four[four['TimePeriod'] == 'Morning']),len(four[four['TimePeriod'] == 'Noon']),len(four[four['TimePeriod'] == 'Evening']),len(four[four['TimePeriod'] == 'Night'])]\n",
    "# Make figure and axes\n",
    "fig, axs = plt.subplots(2, 2)\n",
    "\n",
    "# A standard pie plot\n",
    "axs[0, 0].pie(sizes1, labels=labels, autopct='%.0f%%', shadow=True)\n",
    "axs[0,0].set_title(\"2001\")\n",
    "\n",
    "\n",
    "# Shift the second slice using explode\n",
    "axs[0, 1].pie(sizes2, labels=labels, autopct='%.0f%%', shadow=True,\n",
    "             )\n",
    "axs[0,1].set_title(\"2002\")\n",
    "\n",
    "# Adapt radius and text size for a smaller pie\n",
    "patches, texts, autotexts = axs[1, 0].pie(sizes3, labels=labels,\n",
    "                                          autopct='%.0f%%',\n",
    "                                          shadow=True )\n",
    "axs[1,0].set_title(\"2003\")\n",
    "# Make percent texts even smaller\n",
    "plt.setp(autotexts, size='x-small')\n",
    "autotexts[0].set_color('white')\n",
    "\n",
    "# Use a smaller explode and turn of the shadow for better visibility\n",
    "patches, texts, autotexts = axs[1, 1].pie(sizes4, labels=labels,\n",
    "                                          autopct='%.0f%%',\n",
    "                                          shadow=False\n",
    "                                        )\n",
    "axs[1,1].set_title(\"2004\")\n",
    "plt.setp(autotexts, size='x-small')\n",
    "autotexts[0].set_color('white')\n",
    "\n",
    "plt.show()"
   ]
  },
  {
   "cell_type": "code",
   "execution_count": 45,
   "metadata": {},
   "outputs": [
    {
     "data": {
      "image/png": "[encoded data removed]",
      "text/plain": [
       "<Figure size 432x288 with 4 Axes>"
      ]
     },
     "metadata": {},
     "output_type": "display_data"
    }
   ],
   "source": [
    "#Number of crimes committed in 2005 - 2008\n",
    "\n",
    "labels = ['Morning', 'Noon', 'Evening', 'Night']\n",
    "one = finaldatasets[finaldatasets['year'] == '2005']\n",
    "two = finaldatasets[finaldatasets['year'] == '2006']\n",
    "three = finaldatasets[finaldatasets['year'] == '2007']\n",
    "four = finaldatasets[finaldatasets['year'] == '2008']\n",
    "sizes1 = [len(one[one['TimePeriod'] == 'Morning']),len(one[one['TimePeriod'] == 'Noon']),len(one[one['TimePeriod'] == 'Evening']),len(one[one['TimePeriod'] == 'Night'])]\n",
    "sizes2 = [len(two[two['TimePeriod'] == 'Morning']),len(two[two['TimePeriod'] == 'Noon']),len(two[two['TimePeriod'] == 'Evening']),len(two[two['TimePeriod'] == 'Night'])]\n",
    "sizes3 = [len(three[three['TimePeriod'] == 'Morning']),len(three[three['TimePeriod'] == 'Noon']),len(three[three['TimePeriod'] == 'Evening']),len(three[three['TimePeriod'] == 'Night'])]\n",
    "sizes4 = [len(four[four['TimePeriod'] == 'Morning']),len(four[four['TimePeriod'] == 'Noon']),len(four[four['TimePeriod'] == 'Evening']),len(four[four['TimePeriod'] == 'Night'])]\n",
    "# Make figure and axes\n",
    "fig, axs = plt.subplots(2, 2)\n",
    "\n",
    "# A standard pie plot\n",
    "axs[0, 0].pie(sizes1, labels=labels, autopct='%.0f%%', shadow=True)\n",
    "axs[0,0].set_title(\"2005\")\n",
    "\n",
    "\n",
    "# Shift the second slice using explode\n",
    "axs[0, 1].pie(sizes2, labels=labels, autopct='%.0f%%', shadow=True,\n",
    "             )\n",
    "axs[0,1].set_title(\"2006\")\n",
    "\n",
    "# Adapt radius and text size for a smaller pie\n",
    "patches, texts, autotexts = axs[1, 0].pie(sizes3, labels=labels,\n",
    "                                          autopct='%.0f%%',\n",
    "                                          shadow=True )\n",
    "axs[1,0].set_title(\"2007\")\n",
    "# Make percent texts even smaller\n",
    "plt.setp(autotexts, size='x-small')\n",
    "autotexts[0].set_color('white')\n",
    "\n",
    "# Use a smaller explode and turn of the shadow for better visibility\n",
    "patches, texts, autotexts = axs[1, 1].pie(sizes4, labels=labels,\n",
    "                                          autopct='%.0f%%',\n",
    "                                          shadow=False\n",
    "                                        )\n",
    "axs[1,1].set_title(\"2008\")\n",
    "plt.setp(autotexts, size='x-small')\n",
    "autotexts[0].set_color('white')\n",
    "\n",
    "plt.show()"
   ]
  },
  {
   "cell_type": "code",
   "execution_count": 46,
   "metadata": {},
   "outputs": [
    {
     "data": {
      "image/png": "[encoded data removed]",
      "text/plain": [
       "<Figure size 432x288 with 4 Axes>"
      ]
     },
     "metadata": {},
     "output_type": "display_data"
    }
   ],
   "source": [
    "#Number of crimes committed in 2009 - 2012\n",
    "\n",
    "labels = ['Morning', 'Noon', 'Evening', 'Night']\n",
    "one = finaldatasets[finaldatasets['year'] == '2009']\n",
    "two = finaldatasets[finaldatasets['year'] == '2010']\n",
    "three = finaldatasets[finaldatasets['year'] == '2011']\n",
    "four = finaldatasets[finaldatasets['year'] == '2012']\n",
    "sizes1 = [len(one[one['TimePeriod'] == 'Morning']),len(one[one['TimePeriod'] == 'Noon']),len(one[one['TimePeriod'] == 'Evening']),len(one[one['TimePeriod'] == 'Night'])]\n",
    "sizes2 = [len(two[two['TimePeriod'] == 'Morning']),len(two[two['TimePeriod'] == 'Noon']),len(two[two['TimePeriod'] == 'Evening']),len(two[two['TimePeriod'] == 'Night'])]\n",
    "sizes3 = [len(three[three['TimePeriod'] == 'Morning']),len(three[three['TimePeriod'] == 'Noon']),len(three[three['TimePeriod'] == 'Evening']),len(three[three['TimePeriod'] == 'Night'])]\n",
    "sizes4 = [len(four[four['TimePeriod'] == 'Morning']),len(four[four['TimePeriod'] == 'Noon']),len(four[four['TimePeriod'] == 'Evening']),len(four[four['TimePeriod'] == 'Night'])]\n",
    "# Make figure and axes\n",
    "fig, axs = plt.subplots(2, 2)\n",
    "\n",
    "# A standard pie plot\n",
    "axs[0, 0].pie(sizes1, labels=labels, autopct='%.0f%%', shadow=True)\n",
    "axs[0,0].set_title(\"2009\")\n",
    "\n",
    "\n",
    "# Shift the second slice using explode\n",
    "axs[0, 1].pie(sizes2, labels=labels, autopct='%.0f%%', shadow=True,\n",
    "             )\n",
    "axs[0,1].set_title(\"2010\")\n",
    "\n",
    "# Adapt radius and text size for a smaller pie\n",
    "patches, texts, autotexts = axs[1, 0].pie(sizes3, labels=labels,\n",
    "                                          autopct='%.0f%%',\n",
    "                                          shadow=True )\n",
    "axs[1,0].set_title(\"2011\")\n",
    "# Make percent texts even smaller\n",
    "plt.setp(autotexts, size='x-small')\n",
    "autotexts[0].set_color('white')\n",
    "\n",
    "# Use a smaller explode and turn of the shadow for better visibility\n",
    "patches, texts, autotexts = axs[1, 1].pie(sizes4, labels=labels,\n",
    "                                          autopct='%.0f%%',\n",
    "                                          shadow=False\n",
    "                                        )\n",
    "axs[1,1].set_title(\"2012\")\n",
    "plt.setp(autotexts, size='x-small')\n",
    "autotexts[0].set_color('white')\n",
    "\n",
    "plt.show()"
   ]
  },
  {
   "cell_type": "code",
   "execution_count": 47,
   "metadata": {},
   "outputs": [
    {
     "data": {
      "image/png": "[encoded data removed]",
      "text/plain": [
       "<Figure size 432x288 with 4 Axes>"
      ]
     },
     "metadata": {},
     "output_type": "display_data"
    },
    {
     "data": {
      "image/png": "[encoded data removed]",
      "text/plain": [
       "<Figure size 432x288 with 1 Axes>"
      ]
     },
     "metadata": {},
     "output_type": "display_data"
    }
   ],
   "source": [
    "#Number of crimes committed in 2013 - 2017\n",
    "\n",
    "labels = ['Morning', 'Noon', 'Evening', 'Night']\n",
    "one = finaldatasets[finaldatasets['year'] == '2013']\n",
    "two = finaldatasets[finaldatasets['year'] == '2014']\n",
    "three = finaldatasets[finaldatasets['year'] == '2015']\n",
    "four = finaldatasets[finaldatasets['year'] == '2016']\n",
    "five = finaldatasets[finaldatasets['year'] == '2017']\n",
    "sizes1 = [len(one[one['TimePeriod'] == 'Morning']),len(one[one['TimePeriod'] == 'Noon']),len(one[one['TimePeriod'] == 'Evening']),len(one[one['TimePeriod'] == 'Night'])]\n",
    "sizes2 = [len(two[two['TimePeriod'] == 'Morning']),len(two[two['TimePeriod'] == 'Noon']),len(two[two['TimePeriod'] == 'Evening']),len(two[two['TimePeriod'] == 'Night'])]\n",
    "sizes3 = [len(three[three['TimePeriod'] == 'Morning']),len(three[three['TimePeriod'] == 'Noon']),len(three[three['TimePeriod'] == 'Evening']),len(three[three['TimePeriod'] == 'Night'])]\n",
    "sizes4 = [len(four[four['TimePeriod'] == 'Morning']),len(four[four['TimePeriod'] == 'Noon']),len(four[four['TimePeriod'] == 'Evening']),len(four[four['TimePeriod'] == 'Night'])]\n",
    "sizes5 = [len(five[five['TimePeriod'] == 'Morning']),len(five[five['TimePeriod'] == 'Noon']),len(five[five['TimePeriod'] == 'Evening']),len(five[five['TimePeriod'] == 'Night'])]\n",
    "# Make figure and axes\n",
    "fig, axs = plt.subplots(2, 2)\n",
    "\n",
    "# A standard pie plot\n",
    "axs[0, 0].pie(sizes1, labels=labels, autopct='%.0f%%', shadow=True)\n",
    "axs[0,0].set_title(\"2013\")\n",
    "\n",
    "\n",
    "# Shift the second slice using explode\n",
    "axs[0, 1].pie(sizes2, labels=labels, autopct='%.0f%%', shadow=True,\n",
    "             )\n",
    "axs[0,1].set_title(\"2014\")\n",
    "\n",
    "# Adapt radius and text size for a smaller pie\n",
    "patches, texts, autotexts = axs[1, 0].pie(sizes3, labels=labels,\n",
    "                                          autopct='%.0f%%',\n",
    "                                          shadow=True )\n",
    "axs[1,0].set_title(\"2015\")\n",
    "# Make percent texts even smaller\n",
    "plt.setp(autotexts, size='x-small')\n",
    "autotexts[0].set_color('white')\n",
    "\n",
    "# Use a smaller explode and turn of the shadow for better visibility\n",
    "patches, texts, autotexts = axs[1, 1].pie(sizes4, labels=labels,\n",
    "                                          autopct='%.0f%%',\n",
    "                                          shadow=False\n",
    "                                        )\n",
    "axs[1,1].set_title(\"2016\")\n",
    "plt.setp(autotexts, size='x-small')\n",
    "autotexts[0].set_color('white')\n",
    "\n",
    "plt.show()\n",
    "\n",
    "fig1, axs = plt.subplots()\n",
    "\n",
    "# A standard pie plot\n",
    "patches, texts, autotexts = axs.pie(sizes5, labels=labels,\n",
    "                                          autopct='%.0f%%',\n",
    "                                          shadow=False\n",
    "                                        )\n",
    "axs.set_title(\"2017\")\n",
    "plt.setp(autotexts, size='x-small')\n",
    "autotexts[0].set_color('white')\n",
    "\n",
    "plt.show()\n"
   ]
  },
  {
   "cell_type": "code",
   "execution_count": 48,
   "metadata": {},
   "outputs": [],
   "source": [
    "#Grouped Bar Graphs\n",
    "finaldatasets = finaldatasets[finaldatasets['Major Section'] != 0.0]\n",
    "finaldatasets = finaldatasets[finaldatasets['Community Area'].isna() != True]"
   ]
  },
  {
   "cell_type": "code",
   "execution_count": 49,
   "metadata": {},
   "outputs": [
    {
     "data": {
      "text/plain": [
       "array(['Far Southeast side', 'Southwest side', 'North side',\n",
       "       'Northwest side', 'West side', 'Far Southwest side', 'Central',\n",
       "       'Far North side', 'South side'], dtype=object)"
      ]
     },
     "execution_count": 49,
     "metadata": {},
     "output_type": "execute_result"
    }
   ],
   "source": [
    "finaldatasets['Major Section'].unique()"
   ]
  },
  {
   "cell_type": "code",
   "execution_count": 50,
   "metadata": {},
   "outputs": [
    {
     "data": {
      "text/plain": [
       "array(['THEFT', 'OFFENSE', 'ASSAULT', 'OTHER', 'VIOLATION',\n",
       "       'WHITE COLLAR CRIME', 'DAMAGES', 'MURDER', 'KIDNAPPING'],\n",
       "      dtype=object)"
      ]
     },
     "execution_count": 50,
     "metadata": {},
     "output_type": "execute_result"
    }
   ],
   "source": [
    "finaldatasets['Primary Crime Type'].unique()"
   ]
  },
  {
   "cell_type": "code",
   "execution_count": 51,
   "metadata": {},
   "outputs": [],
   "source": [
    "# finaldatasets = finaldatasets.sample(n=200)"
   ]
  },
  {
   "cell_type": "code",
   "execution_count": 52,
   "metadata": {},
   "outputs": [],
   "source": [
    "fss = finaldatasets[finaldatasets['Major Section'] == 'Far Southeast side']\n",
    "sws = finaldatasets[finaldatasets['Major Section'] == 'Southwest side']\n",
    "ns = finaldatasets[finaldatasets['Major Section'] == 'North side']\n",
    "nws = finaldatasets[finaldatasets['Major Section'] == 'Northwest side']\n",
    "ws = finaldatasets[finaldatasets['Major Section'] == 'West side']\n",
    "fsws = finaldatasets[finaldatasets['Major Section'] == 'Far Southwest side']\n",
    "central = finaldatasets[finaldatasets['Major Section'] == 'Central']\n",
    "fns = finaldatasets[finaldatasets['Major Section'] == 'Far North side']\n",
    "ss = finaldatasets[finaldatasets['Major Section'] == 'South side']"
   ]
  },
  {
   "cell_type": "code",
   "execution_count": 53,
   "metadata": {},
   "outputs": [
    {
     "data": {
      "image/png": "[encoded data removed]",
      "text/plain": [
       "<Figure size 432x288 with 1 Axes>"
      ]
     },
     "metadata": {
      "needs_background": "light"
     },
     "output_type": "display_data"
    },
    {
     "data": {
      "text/plain": [
       "<Figure size 1440x216 with 0 Axes>"
      ]
     },
     "metadata": {},
     "output_type": "display_data"
    }
   ],
   "source": [
    "fss.reset_index()\n",
    "sws.reset_index()\n",
    "nws.reset_index()\n",
    "df = pd.DataFrame(\n",
    "    [['Theft','Far Southeast side',len(fss[fss['Primary Crime Type'] == 'THEFT'])],\n",
    "     ['Offense','Far Southeast side',len(fss[fss['Primary Crime Type'] == 'OFFENSE'])],\n",
    "     ['Assault','Far Southeast side',len(fss[fss['Primary Crime Type'] == 'ASSAULT'])],\n",
    "     ['Other','Far Southeast side',len(fss[fss['Primary Crime Type'] == 'OTHER'])], \n",
    "     ['Violation','Far Southeast side',len(fss[fss['Primary Crime Type'] == 'VIOLATION'])],\n",
    "     ['White Collar Crime','Far Southeast side',len(fss[fss['Primary Crime Type'] == 'WHITE COLLAR CRIME'])],\n",
    "     ['Damages','Far Southeast side',len(fss[fss['Primary Crime Type'] == 'DAMAGES'])],\n",
    "     ['Murder','Far Southeast side',len(fss[fss['Primary Crime Type'] == 'MURDER'])],\n",
    "     ['Kidnapping','Far Southeast side',len(fss[fss['Primary Crime Type'] == 'KIDNAPPING'])],\n",
    "    ['Theft','Southwest side',len(sws[sws['Primary Crime Type'] == 'THEFT'])],\n",
    "     ['Offense','Southwest side',len(sws[sws['Primary Crime Type'] == 'OFFENSE'])],\n",
    "     ['Assault','Southwest side',len(sws[sws['Primary Crime Type'] == 'ASSAULT'])],\n",
    "     ['Other','Southwest side',len(sws[sws['Primary Crime Type'] == 'OTHER'])], \n",
    "     ['Violation','Southwest side',len(sws[sws['Primary Crime Type'] == 'VIOLATION'])],\n",
    "     ['White Collar Crime','Southwest side',len(sws[sws['Primary Crime Type'] == 'WHITE COLLAR CRIME'])],\n",
    "     ['Damages','Southwest side',len(sws[sws['Primary Crime Type'] == 'DAMAGES'])],\n",
    "     ['Murder','Southwest side',len(sws[sws['Primary Crime Type'] == 'MURDER'])],\n",
    "     ['Kidnapping','Southwest side',len(sws[sws['Primary Crime Type'] == 'KIDNAPPING'])],\n",
    "     ['Theft','Northwest side',len(nws[nws['Primary Crime Type'] == 'THEFT'])],\n",
    "     ['Offense','Northwest side',len(nws[nws['Primary Crime Type'] == 'OFFENSE'])],\n",
    "     ['Assault','Northwest side',len(nws[nws['Primary Crime Type'] == 'ASSAULT'])],\n",
    "     ['Other','Northwest side',len(nws[nws['Primary Crime Type'] == 'OTHER'])], \n",
    "     ['Violation','Northwest side',len(nws[nws['Primary Crime Type'] == 'VIOLATION'])],\n",
    "     ['White Collar Crime','Northwest side',len(nws[nws['Primary Crime Type'] == 'WHITE COLLAR CRIME'])],\n",
    "     ['Damages','Northwest side',len(nws[nws['Primary Crime Type'] == 'DAMAGES'])],\n",
    "     ['Murder','Northwest side',len(nws[nws['Primary Crime Type'] == 'MURDER'])],\n",
    "     ['Kidnapping','Northwest side',len(nws[nws['Primary Crime Type'] == 'KIDNAPPING'])],\n",
    "     ['Theft','North side',len(ns[ns['Primary Crime Type'] == 'THEFT'])],\n",
    "     ['Offense','North side',len(ns[ns['Primary Crime Type'] == 'OFFENSE'])],\n",
    "     ['Assault','North side',len(ns[ns['Primary Crime Type'] == 'ASSAULT'])],\n",
    "     ['Other','North side',len(ns[ns['Primary Crime Type'] == 'OTHER'])], \n",
    "     ['Violation','North side',len(ns[ns['Primary Crime Type'] == 'VIOLATION'])],\n",
    "     ['White Collar Crime','North side',len(ns[ns['Primary Crime Type'] == 'WHITE COLLAR CRIME'])],\n",
    "     ['Damages','North side',len(ns[ns['Primary Crime Type'] == 'DAMAGES'])],\n",
    "     ['Murder','North side',len(ns[ns['Primary Crime Type'] == 'MURDER'])],\n",
    "     ['Kidnapping','North side',len(ns[ns['Primary Crime Type'] == 'KIDNAPPING'])],\n",
    "     ['Theft','West side',len(ws[ws['Primary Crime Type'] == 'THEFT'])],\n",
    "     ['Offense','West side',len(ws[ws['Primary Crime Type'] == 'OFFENSE'])],\n",
    "     ['Assault','West side',len(ws[ws['Primary Crime Type'] == 'ASSAULT'])],\n",
    "     ['Other','West side',len(ws[ws['Primary Crime Type'] == 'OTHER'])], \n",
    "     ['Violation','West side',len(ws[ws['Primary Crime Type'] == 'VIOLATION'])],\n",
    "     ['White Collar Crime','West side',len(ws[ws['Primary Crime Type'] == 'WHITE COLLAR CRIME'])],\n",
    "     ['Damages','West side',len(ws[ws['Primary Crime Type'] == 'DAMAGES'])],\n",
    "     ['Murder','West side',len(ws[ws['Primary Crime Type'] == 'MURDER'])],\n",
    "     ['Kidnapping','West side',len(ws[ws['Primary Crime Type'] == 'KIDNAPPING'])],\n",
    "     ['Theft','Far Southwest side',len(fsws[fsws['Primary Crime Type'] == 'THEFT'])],\n",
    "     ['Offense','Far Southwest side',len(fsws[fsws['Primary Crime Type'] == 'OFFENSE'])],\n",
    "     ['Assault','Far Southwest side',len(fsws[fsws['Primary Crime Type'] == 'ASSAULT'])],\n",
    "     ['Other','Far Southwest side',len(fsws[fsws['Primary Crime Type'] == 'OTHER'])], \n",
    "     ['Violation','Far Southwest side',len(fsws[fsws['Primary Crime Type'] == 'VIOLATION'])],\n",
    "     ['White Collar Crime','Far Southwest side',len(fsws[fsws['Primary Crime Type'] == 'WHITE COLLAR CRIME'])],\n",
    "     ['Damages','Far Southwest side',len(fsws[fsws['Primary Crime Type'] == 'DAMAGES'])],\n",
    "     ['Murder','Far Southwest side',len(fsws[fsws['Primary Crime Type'] == 'MURDER'])],\n",
    "     ['Kidnapping','Far Southwest side',len(fsws[fsws['Primary Crime Type'] == 'KIDNAPPING'])],\n",
    "     ['Theft','Central',len(central[central['Primary Crime Type'] == 'THEFT'])],\n",
    "     ['Offense','Central',len(central[central['Primary Crime Type'] == 'OFFENSE'])],\n",
    "     ['Assault','Central',len(central[central['Primary Crime Type'] == 'ASSAULT'])],\n",
    "     ['Other','Central',len(central[central['Primary Crime Type'] == 'OTHER'])], \n",
    "     ['Violation','Central',len(central[central['Primary Crime Type'] == 'VIOLATION'])],\n",
    "     ['White Collar Crime','Central',len(central[central['Primary Crime Type'] == 'WHITE COLLAR CRIME'])],\n",
    "     ['Damages','Central',len(central[central['Primary Crime Type'] == 'DAMAGES'])],\n",
    "     ['Murder','Central',len(central[central['Primary Crime Type'] == 'MURDER'])],\n",
    "     ['Kidnapping','Central',len(central[central['Primary Crime Type'] == 'KIDNAPPING'])],\n",
    "     ['Theft','Far North side',len(fns[fns['Primary Crime Type'] == 'THEFT'])],\n",
    "     ['Offense','Far North side',len(fns[fns['Primary Crime Type'] == 'OFFENSE'])],\n",
    "     ['Assault','Far North side',len(fns[fns['Primary Crime Type'] == 'ASSAULT'])],\n",
    "     ['Other','Far North side',len(fns[fns['Primary Crime Type'] == 'OTHER'])], \n",
    "     ['Violation','Far North side',len(fns[fns['Primary Crime Type'] == 'VIOLATION'])],\n",
    "     ['White Collar Crime','Far North side',len(fns[fns['Primary Crime Type'] == 'WHITE COLLAR CRIME'])],\n",
    "     ['Damages','Far North side',len(fns[fns['Primary Crime Type'] == 'DAMAGES'])],\n",
    "     ['Murder','Far North side',len(fns[fns['Primary Crime Type'] == 'MURDER'])],\n",
    "     ['Kidnapping','Far North side',len(fns[fns['Primary Crime Type'] == 'KIDNAPPING'])],\n",
    "     ['Theft','South side',len(ss[ss['Primary Crime Type'] == 'THEFT'])],\n",
    "     ['Offense','South side',len(ss[ss['Primary Crime Type'] == 'OFFENSE'])],\n",
    "     ['Assault','South side',len(ss[ss['Primary Crime Type'] == 'ASSAULT'])],\n",
    "     ['Other','South side',len(ss[ss['Primary Crime Type'] == 'OTHER'])], \n",
    "     ['Violation','South side',len(ss[ss['Primary Crime Type'] == 'VIOLATION'])],\n",
    "     ['White Collar Crime','South side',len(ss[ss['Primary Crime Type'] == 'WHITE COLLAR CRIME'])],\n",
    "     ['Damages','South side',len(ss[ss['Primary Crime Type'] == 'DAMAGES'])],\n",
    "     ['Murder','South side',len(ss[ss['Primary Crime Type'] == 'MURDER'])],\n",
    "     ['Kidnapping','South side',len(ss[ss['Primary Crime Type'] == 'KIDNAPPING'])]\n",
    "    ],\n",
    "    \n",
    "    columns=['group','column','val'])\n",
    "\n",
    "df.reset_index().pivot(\"column\", \"group\", \"val\").plot(kind='bar', width=1.0)\n",
    "# plt.rcParams['figure.figsize'] = (50,50)\n",
    "plt.figure(figsize=(20, 3))\n",
    "plt.show()"
   ]
  },
  {
   "cell_type": "code",
   "execution_count": 54,
   "metadata": {},
   "outputs": [
    {
     "data": {
      "text/plain": [
       "['THEFT',\n",
       " 'OFFENSE',\n",
       " 'ASSAULT',\n",
       " 'OTHER',\n",
       " 'VIOLATION',\n",
       " 'WHITE COLLAR CRIME',\n",
       " 'DAMAGES',\n",
       " 'MURDER',\n",
       " 'KIDNAPPING']"
      ]
     },
     "execution_count": 54,
     "metadata": {},
     "output_type": "execute_result"
    }
   ],
   "source": [
    "uniq_crimes = finaldatasets['Primary Crime Type'].unique()\n",
    "list(uniq_crimes)"
   ]
  },
  {
   "cell_type": "code",
   "execution_count": 55,
   "metadata": {},
   "outputs": [
    {
     "data": {
      "text/plain": [
       "Text(0, 0.5, 'Count')"
      ]
     },
     "execution_count": 55,
     "metadata": {},
     "output_type": "execute_result"
    },
    {
     "data": {
      "image/png": "[encoded data removed]",
      "text/plain": [
       "<Figure size 1296x360 with 1 Axes>"
      ]
     },
     "metadata": {
      "needs_background": "light"
     },
     "output_type": "display_data"
    }
   ],
   "source": [
    "vals = []\n",
    "for crime in list(uniq_crimes):\n",
    "    vals.append(len(fss[fss['Primary Crime Type'] == crime]))\n",
    "df = pd.DataFrame({'lab':list(uniq_crimes), 'Count':vals})\n",
    "ax = df.plot.bar(x='lab', y='Count', rot=0, figsize = (18,5))\n",
    "# plt.subplots(figsize=(18,5))\n",
    "fig.suptitle('test title', fontsize=200)\n",
    "plt.xlabel('Far Southeast side', fontsize=25)\n",
    "plt.ylabel('Count', fontsize=25)"
   ]
  },
  {
   "cell_type": "code",
   "execution_count": 56,
   "metadata": {},
   "outputs": [
    {
     "data": {
      "text/plain": [
       "Text(0, 0.5, 'Count')"
      ]
     },
     "execution_count": 56,
     "metadata": {},
     "output_type": "execute_result"
    },
    {
     "data": {
      "image/png": "[encoded data removed]",
      "text/plain": [
       "<Figure size 1296x360 with 1 Axes>"
      ]
     },
     "metadata": {
      "needs_background": "light"
     },
     "output_type": "display_data"
    }
   ],
   "source": [
    "vals = []\n",
    "for crime in list(uniq_crimes):\n",
    "    vals.append(len(sws[sws['Primary Crime Type'] == crime]))\n",
    "df = pd.DataFrame({'lab':list(uniq_crimes), 'Count':vals})\n",
    "ax = df.plot.bar(x='lab', y='Count', rot=0, figsize = (18,5))\n",
    "# plt.subplots(figsize=(18,5))\n",
    "fig.suptitle('test title', fontsize=200)\n",
    "plt.xlabel('Southwest side', fontsize=25)\n",
    "plt.ylabel('Count', fontsize=25)"
   ]
  },
  {
   "cell_type": "code",
   "execution_count": 57,
   "metadata": {},
   "outputs": [
    {
     "data": {
      "text/plain": [
       "Text(0, 0.5, 'Count')"
      ]
     },
     "execution_count": 57,
     "metadata": {},
     "output_type": "execute_result"
    },
    {
     "data": {
      "image/png": "[encoded data removed]",
      "text/plain": [
       "<Figure size 1296x360 with 1 Axes>"
      ]
     },
     "metadata": {
      "needs_background": "light"
     },
     "output_type": "display_data"
    }
   ],
   "source": [
    "vals = []\n",
    "for crime in list(uniq_crimes):\n",
    "    vals.append(len(nws[nws['Primary Crime Type'] == crime]))\n",
    "df = pd.DataFrame({'lab':list(uniq_crimes), 'Count':vals})\n",
    "ax = df.plot.bar(x='lab', y='Count', rot=0, figsize = (18,5))\n",
    "# plt.subplots(figsize=(18,5))\n",
    "fig.suptitle('test title', fontsize=200)\n",
    "plt.xlabel('Northwest side', fontsize=25)\n",
    "plt.ylabel('Count', fontsize=25)"
   ]
  },
  {
   "cell_type": "code",
   "execution_count": 58,
   "metadata": {},
   "outputs": [
    {
     "data": {
      "text/plain": [
       "Text(0, 0.5, 'Count')"
      ]
     },
     "execution_count": 58,
     "metadata": {},
     "output_type": "execute_result"
    },
    {
     "data": {
      "image/png": "[encoded data removed]",
      "text/plain": [
       "<Figure size 1296x360 with 1 Axes>"
      ]
     },
     "metadata": {
      "needs_background": "light"
     },
     "output_type": "display_data"
    }
   ],
   "source": [
    "vals = []\n",
    "for crime in list(uniq_crimes):\n",
    "    vals.append(len(ns[ns['Primary Crime Type'] == crime]))\n",
    "df = pd.DataFrame({'lab':list(uniq_crimes), 'Count':vals})\n",
    "ax = df.plot.bar(x='lab', y='Count', rot=0, figsize = (18,5))\n",
    "# plt.subplots(figsize=(18,5))\n",
    "fig.suptitle('test title', fontsize=200)\n",
    "plt.xlabel('North Side', fontsize=25)\n",
    "plt.ylabel('Count', fontsize=25)"
   ]
  },
  {
   "cell_type": "code",
   "execution_count": 59,
   "metadata": {},
   "outputs": [
    {
     "data": {
      "text/plain": [
       "Text(0, 0.5, 'Count')"
      ]
     },
     "execution_count": 59,
     "metadata": {},
     "output_type": "execute_result"
    },
    {
     "data": {
      "image/png": "[encoded data removed]",
      "text/plain": [
       "<Figure size 1296x360 with 1 Axes>"
      ]
     },
     "metadata": {
      "needs_background": "light"
     },
     "output_type": "display_data"
    }
   ],
   "source": [
    "vals = []\n",
    "for crime in list(uniq_crimes):\n",
    "    vals.append(len(ss[ss['Primary Crime Type'] == crime]))\n",
    "df = pd.DataFrame({'lab':list(uniq_crimes), 'Count':vals})\n",
    "ax = df.plot.bar(x='lab', y='Count', rot=0, figsize = (18,5))\n",
    "# plt.subplots(figsize=(18,5))\n",
    "fig.suptitle('test title', fontsize=200)\n",
    "plt.xlabel('South side', fontsize=25)\n",
    "plt.ylabel('Count', fontsize=25)"
   ]
  },
  {
   "cell_type": "code",
   "execution_count": 60,
   "metadata": {},
   "outputs": [
    {
     "data": {
      "text/plain": [
       "Text(0, 0.5, 'Count')"
      ]
     },
     "execution_count": 60,
     "metadata": {},
     "output_type": "execute_result"
    },
    {
     "data": {
      "image/png": "[encoded data removed]",
      "text/plain": [
       "<Figure size 1296x360 with 1 Axes>"
      ]
     },
     "metadata": {
      "needs_background": "light"
     },
     "output_type": "display_data"
    }
   ],
   "source": [
    "vals = []\n",
    "for crime in list(uniq_crimes):\n",
    "    vals.append(len(ws[ws['Primary Crime Type'] == crime]))\n",
    "df = pd.DataFrame({'lab':list(uniq_crimes), 'Count':vals})\n",
    "ax = df.plot.bar(x='lab', y='Count', rot=0, figsize = (18,5))\n",
    "# plt.subplots(figsize=(18,5))\n",
    "fig.suptitle('test title', fontsize=200)\n",
    "plt.xlabel('West side', fontsize=25)\n",
    "plt.ylabel('Count', fontsize=25)"
   ]
  },
  {
   "cell_type": "code",
   "execution_count": 61,
   "metadata": {},
   "outputs": [
    {
     "data": {
      "text/plain": [
       "Text(0, 0.5, 'Count')"
      ]
     },
     "execution_count": 61,
     "metadata": {},
     "output_type": "execute_result"
    },
    {
     "data": {
      "image/png": "[encoded data removed]",
      "text/plain": [
       "<Figure size 1296x360 with 1 Axes>"
      ]
     },
     "metadata": {
      "needs_background": "light"
     },
     "output_type": "display_data"
    }
   ],
   "source": [
    "vals = []\n",
    "for crime in list(uniq_crimes):\n",
    "    vals.append(len(fsws[fsws['Primary Crime Type'] == crime]))\n",
    "df = pd.DataFrame({'lab':list(uniq_crimes), 'Count':vals})\n",
    "ax = df.plot.bar(x='lab', y='Count', rot=0, figsize = (18,5))\n",
    "# plt.subplots(figsize=(18,5))\n",
    "fig.suptitle('test title', fontsize=200)\n",
    "plt.xlabel('Far Southwest side', fontsize=25)\n",
    "plt.ylabel('Count', fontsize=25)"
   ]
  },
  {
   "cell_type": "code",
   "execution_count": 62,
   "metadata": {},
   "outputs": [
    {
     "data": {
      "text/plain": [
       "Text(0, 0.5, 'Count')"
      ]
     },
     "execution_count": 62,
     "metadata": {},
     "output_type": "execute_result"
    },
    {
     "data": {
      "image/png": "[encoded data removed]",
      "text/plain": [
       "<Figure size 1296x360 with 1 Axes>"
      ]
     },
     "metadata": {
      "needs_background": "light"
     },
     "output_type": "display_data"
    }
   ],
   "source": [
    "vals = []\n",
    "for crime in list(uniq_crimes):\n",
    "    vals.append(len(fns[fns['Primary Crime Type'] == crime]))\n",
    "df = pd.DataFrame({'lab':list(uniq_crimes), 'Count':vals})\n",
    "ax = df.plot.bar(x='lab', y='Count', rot=0, figsize = (18,5))\n",
    "# plt.subplots(figsize=(18,5))\n",
    "fig.suptitle('test title', fontsize=200)\n",
    "plt.xlabel('Far North side', fontsize=25)\n",
    "plt.ylabel('Count', fontsize=25)"
   ]
  },
  {
   "cell_type": "code",
   "execution_count": 63,
   "metadata": {},
   "outputs": [
    {
     "data": {
      "text/plain": [
       "Text(0, 0.5, 'Count')"
      ]
     },
     "execution_count": 63,
     "metadata": {},
     "output_type": "execute_result"
    },
    {
     "data": {
      "image/png": "[encoded data removed]",
      "text/plain": [
       "<Figure size 1296x360 with 1 Axes>"
      ]
     },
     "metadata": {
      "needs_background": "light"
     },
     "output_type": "display_data"
    }
   ],
   "source": [
    "vals = []\n",
    "for crime in list(uniq_crimes):\n",
    "    vals.append(len(central[central['Primary Crime Type'] == crime]))\n",
    "df = pd.DataFrame({'lab':list(uniq_crimes), 'Count':vals})\n",
    "ax = df.plot.bar(x='lab', y='Count', rot=0, figsize = (18,5))\n",
    "# plt.subplots(figsize=(18,5))\n",
    "fig.suptitle('test title', fontsize=200)\n",
    "plt.xlabel('Central', fontsize=25)\n",
    "plt.ylabel('Count', fontsize=25)"
   ]
  },
  {
   "cell_type": "code",
   "execution_count": 64,
   "metadata": {},
   "outputs": [
    {
     "name": "stderr",
     "output_type": "stream",
     "text": [
      "C:\\Users\\ibray\\Anaconda3\\lib\\site-packages\\folium\\folium.py:415: FutureWarning:\n",
      "\n",
      "The choropleth  method has been deprecated. Instead use the new Choropleth class, which has the same arguments. See the example notebook 'GeoJSON_and_choropleth' for how to do this.\n",
      "\n"
     ]
    },
    {
     "data": {
      "text/html": [
       "\n",
       "        <iframe\n",
       "            width=\"900\"\n",
       "            height=\"700\"\n",
       "            src=\"map1.html\"\n",
       "            frameborder=\"0\"\n",
       "            allowfullscreen\n",
       "        ></iframe>\n",
       "        "
      ],
      "text/plain": [
       "<IPython.lib.display.IFrame at 0x23288393128>"
      ]
     },
     "execution_count": 64,
     "metadata": {},
     "output_type": "execute_result"
    }
   ],
   "source": [
    "def toString(x):\n",
    "    return str(int(x))\n",
    "\n",
    "df_offense = finaldatasets.loc[finaldatasets['Primary Crime Type'] == 'OFFENSE']\n",
    "df_offense.dropna()\n",
    "\n",
    "keep_cols = ['Date','Primary Type','Location Description','Arrest','District','Community Area','Year']\n",
    "df_offense = df_offense[keep_cols].reset_index()\n",
    "\n",
    "df_offense_allyears = df_offense.groupby(['Community Area']).count().Arrest.reset_index()\n",
    "df_offense_allyears['Community Area'] = df_offense['Community Area'].apply(toString)\n",
    "# ______________________________________________________ #\n",
    "chicago = location=[41.85, -87.68]\n",
    "\n",
    "m = folium.Map(chicago, zoom_start=10)\n",
    "\n",
    "plugins.Fullscreen(\n",
    "    position='topright',\n",
    "    title='Expand me',\n",
    "    title_cancel='Exit me',\n",
    "    force_separate_button=True).add_to(m)\n",
    "\n",
    "m.choropleth(\n",
    "    geo_data='community_areas.geojson',\n",
    "    name='choropleth',\n",
    "    data=df_offense_allyears,\n",
    "    columns=['Community Area', 'Arrest'],\n",
    "    key_on='feature.properties.area_numbe',\n",
    "    fill_color='YlOrRd', \n",
    "    fill_opacity=0.4, \n",
    "    line_opacity=0.85,\n",
    "    legend_name='Choropleth of Offense per Community Area: 2001-2017',\n",
    "    highlight=True\n",
    ")\n",
    "\n",
    "folium.TileLayer('openstreetmap').add_to(m)\n",
    "folium.TileLayer('cartodbpositron').add_to(m)\n",
    "#folium.TileLayer('major_section_1').add_to(m)\n",
    "folium.LayerControl().add_to(m)\n",
    "m.save(\"map1.html\") \n",
    "IFrame('map1.html', width=900, height=700)"
   ]
  },
  {
   "cell_type": "code",
   "execution_count": 65,
   "metadata": {},
   "outputs": [
    {
     "data": {
      "text/html": [
       "\n",
       "        <iframe\n",
       "            width=\"900\"\n",
       "            height=\"700\"\n",
       "            src=\"map2.html\"\n",
       "            frameborder=\"0\"\n",
       "            allowfullscreen\n",
       "        ></iframe>\n",
       "        "
      ],
      "text/plain": [
       "<IPython.lib.display.IFrame at 0x233141012b0>"
      ]
     },
     "execution_count": 65,
     "metadata": {},
     "output_type": "execute_result"
    }
   ],
   "source": [
    "df_theft = finaldatasets.loc[finaldatasets['Primary Crime Type'] == 'THEFT']\n",
    "df_theft.dropna()\n",
    "\n",
    "keep_cols = ['Date','Primary Type','Location Description','Arrest','District','Community Area','Year']\n",
    "df_theft = df_theft[keep_cols].reset_index()\n",
    "\n",
    "df_theft_allyears = df_theft.groupby(['Community Area']).count().Arrest.reset_index()\n",
    "df_theft_allyears['Community Area'] = df_theft['Community Area'].apply(toString)\n",
    "# ______________________________________________________ #\n",
    "chicago = location=[41.85, -87.68]\n",
    "\n",
    "m = folium.Map(chicago, zoom_start=10)\n",
    "\n",
    "plugins.Fullscreen(\n",
    "    position='topright',\n",
    "    title='Expand me',\n",
    "    title_cancel='Exit me',\n",
    "    force_separate_button=True).add_to(m)\n",
    "\n",
    "m.choropleth(\n",
    "    geo_data='community_areas.geojson',\n",
    "    name='choropleth',\n",
    "    data=df_theft_allyears,\n",
    "    columns=['Community Area', 'Arrest'],\n",
    "    key_on='feature.properties.area_numbe',\n",
    "    fill_color='YlOrRd', \n",
    "    fill_opacity=0.4, \n",
    "    line_opacity=0.85,\n",
    "    legend_name='Choropleth of Theft per Community Area: 2001-2017',\n",
    "    highlight=True\n",
    ")\n",
    "\n",
    "folium.TileLayer('openstreetmap').add_to(m)\n",
    "folium.TileLayer('cartodbpositron').add_to(m)\n",
    "#folium.TileLayer('major_section_1').add_to(m)\n",
    "folium.LayerControl().add_to(m)\n",
    "m.save(\"map2.html\") \n",
    "IFrame('map2.html', width=900, height=700)"
   ]
  },
  {
   "cell_type": "code",
   "execution_count": 66,
   "metadata": {},
   "outputs": [
    {
     "data": {
      "text/html": [
       "\n",
       "        <iframe\n",
       "            width=\"900\"\n",
       "            height=\"700\"\n",
       "            src=\"map3.html\"\n",
       "            frameborder=\"0\"\n",
       "            allowfullscreen\n",
       "        ></iframe>\n",
       "        "
      ],
      "text/plain": [
       "<IPython.lib.display.IFrame at 0x23314119160>"
      ]
     },
     "execution_count": 66,
     "metadata": {},
     "output_type": "execute_result"
    }
   ],
   "source": [
    "df_assault = finaldatasets.loc[finaldatasets['Primary Crime Type'] == 'ASSAULT']\n",
    "df_assault.dropna()\n",
    "\n",
    "keep_cols = ['Date','Primary Type','Location Description','Arrest','District','Community Area','Year']\n",
    "df_assault = df_assault[keep_cols].reset_index()\n",
    "\n",
    "df_assault_allyears = df_assault.groupby(['Community Area']).count().Arrest.reset_index()\n",
    "df_assault_allyears['Community Area'] = df_assault['Community Area'].apply(toString)\n",
    "# ______________________________________________________ #\n",
    "chicago = location=[41.85, -87.68]\n",
    "\n",
    "m = folium.Map(chicago, zoom_start=10)\n",
    "\n",
    "plugins.Fullscreen(\n",
    "    position='topright',\n",
    "    title='Expand me',\n",
    "    title_cancel='Exit me',\n",
    "    force_separate_button=True).add_to(m)\n",
    "\n",
    "m.choropleth(\n",
    "    geo_data='community_areas.geojson',\n",
    "    name='choropleth',\n",
    "    data=df_assault_allyears,\n",
    "    columns=['Community Area', 'Arrest'],\n",
    "    key_on='feature.properties.area_numbe',\n",
    "    fill_color='YlOrRd', \n",
    "    fill_opacity=0.4, \n",
    "    line_opacity=0.85,\n",
    "    legend_name='Choropleth of Assault per Community Area: 2001-2017',\n",
    "    highlight=True\n",
    ")\n",
    "\n",
    "folium.TileLayer('openstreetmap').add_to(m)\n",
    "folium.TileLayer('cartodbpositron').add_to(m)\n",
    "#folium.TileLayer('major_section_1').add_to(m)\n",
    "folium.LayerControl().add_to(m)\n",
    "m.save(\"map3.html\") \n",
    "IFrame('map3.html', width=900, height=700)"
   ]
  },
  {
   "cell_type": "code",
   "execution_count": 67,
   "metadata": {},
   "outputs": [
    {
     "data": {
      "text/html": [
       "\n",
       "        <iframe\n",
       "            width=\"900\"\n",
       "            height=\"700\"\n",
       "            src=\"map4.html\"\n",
       "            frameborder=\"0\"\n",
       "            allowfullscreen\n",
       "        ></iframe>\n",
       "        "
      ],
      "text/plain": [
       "<IPython.lib.display.IFrame at 0x232883c4cf8>"
      ]
     },
     "execution_count": 67,
     "metadata": {},
     "output_type": "execute_result"
    }
   ],
   "source": [
    "df_violation = finaldatasets.loc[finaldatasets['Primary Crime Type'] == 'VIOLATION']\n",
    "df_violation.dropna()\n",
    "\n",
    "keep_cols = ['Date','Primary Type','Location Description','Arrest','District','Community Area','Year']\n",
    "df_violation = df_violation[keep_cols].reset_index()\n",
    "\n",
    "df_violation_allyears = df_violation.groupby(['Community Area']).count().Arrest.reset_index()\n",
    "df_violation_allyears['Community Area'] = df_violation['Community Area'].apply(toString)\n",
    "# ______________________________________________________ #\n",
    "chicago = location=[41.85, -87.68]\n",
    "\n",
    "m = folium.Map(chicago, zoom_start=10)\n",
    "\n",
    "plugins.Fullscreen(\n",
    "    position='topright',\n",
    "    title='Expand me',\n",
    "    title_cancel='Exit me',\n",
    "    force_separate_button=True).add_to(m)\n",
    "\n",
    "m.choropleth(\n",
    "    geo_data='community_areas.geojson',\n",
    "    name='choropleth',\n",
    "    data=df_violation_allyears,\n",
    "    columns=['Community Area', 'Arrest'],\n",
    "    key_on='feature.properties.area_numbe',\n",
    "    fill_color='YlOrRd', \n",
    "    fill_opacity=0.4, \n",
    "    line_opacity=0.85,\n",
    "    legend_name='Choropleth of Violation per Community Area: 2001-2017',\n",
    "    highlight=True\n",
    ")\n",
    "\n",
    "folium.TileLayer('openstreetmap').add_to(m)\n",
    "folium.TileLayer('cartodbpositron').add_to(m)\n",
    "#folium.TileLayer('major_section_1').add_to(m)\n",
    "folium.LayerControl().add_to(m)\n",
    "m.save(\"map4.html\") \n",
    "IFrame('map4.html', width=900, height=700)"
   ]
  },
  {
   "cell_type": "code",
   "execution_count": 68,
   "metadata": {},
   "outputs": [
    {
     "data": {
      "text/html": [
       "\n",
       "        <iframe\n",
       "            width=\"900\"\n",
       "            height=\"700\"\n",
       "            src=\"map5.html\"\n",
       "            frameborder=\"0\"\n",
       "            allowfullscreen\n",
       "        ></iframe>\n",
       "        "
      ],
      "text/plain": [
       "<IPython.lib.display.IFrame at 0x2331056eda0>"
      ]
     },
     "execution_count": 68,
     "metadata": {},
     "output_type": "execute_result"
    }
   ],
   "source": [
    "df_white_collar_crime = finaldatasets.loc[finaldatasets['Primary Crime Type'] == 'WHITE COLLAR CRIME']\n",
    "df_white_collar_crime.dropna()\n",
    "\n",
    "keep_cols = ['Date','Primary Type','Location Description','Arrest','District','Community Area','Year']\n",
    "df_white_collar_crime = df_white_collar_crime[keep_cols].reset_index()\n",
    "\n",
    "df_white_collar_crime_allyears = df_white_collar_crime.groupby(['Community Area']).count().Arrest.reset_index()\n",
    "df_white_collar_crime_allyears['Community Area'] = df_white_collar_crime['Community Area'].apply(toString)\n",
    "# ______________________________________________________ #\n",
    "chicago = location=[41.85, -87.68]\n",
    "\n",
    "m = folium.Map(chicago, zoom_start=10)\n",
    "\n",
    "plugins.Fullscreen(\n",
    "    position='topright',\n",
    "    title='Expand me',\n",
    "    title_cancel='Exit me',\n",
    "    force_separate_button=True).add_to(m)\n",
    "\n",
    "m.choropleth(\n",
    "    geo_data='community_areas.geojson',\n",
    "    name='choropleth',\n",
    "    data=df_white_collar_crime_allyears,\n",
    "    columns=['Community Area', 'Arrest'],\n",
    "    key_on='feature.properties.area_numbe',\n",
    "    fill_color='YlOrRd', \n",
    "    fill_opacity=0.4, \n",
    "    line_opacity=0.85,\n",
    "    legend_name='Choropleth of White Collar Crime per Community Area: 2001-2017',\n",
    "    highlight=True\n",
    ")\n",
    "\n",
    "folium.TileLayer('openstreetmap').add_to(m)\n",
    "folium.TileLayer('cartodbpositron').add_to(m)\n",
    "#folium.TileLayer('major_section_1').add_to(m)\n",
    "folium.LayerControl().add_to(m)\n",
    "m.save(\"map5.html\") \n",
    "IFrame('map5.html', width=900, height=700)"
   ]
  },
  {
   "cell_type": "code",
   "execution_count": 69,
   "metadata": {},
   "outputs": [
    {
     "data": {
      "text/html": [
       "\n",
       "        <iframe\n",
       "            width=\"900\"\n",
       "            height=\"700\"\n",
       "            src=\"map6.html\"\n",
       "            frameborder=\"0\"\n",
       "            allowfullscreen\n",
       "        ></iframe>\n",
       "        "
      ],
      "text/plain": [
       "<IPython.lib.display.IFrame at 0x232884d8f98>"
      ]
     },
     "execution_count": 69,
     "metadata": {},
     "output_type": "execute_result"
    }
   ],
   "source": [
    "df_damages = finaldatasets.loc[finaldatasets['Primary Crime Type'] == 'DAMAGES']\n",
    "df_damages.dropna()\n",
    "\n",
    "keep_cols = ['Date','Primary Type','Location Description','Arrest','District','Community Area','Year']\n",
    "df_damages = df_damages[keep_cols].reset_index()\n",
    "\n",
    "df_damages_allyears = df_damages.groupby(['Community Area']).count().Arrest.reset_index()\n",
    "df_damages_allyears['Community Area'] = df_damages['Community Area'].apply(toString)\n",
    "# ______________________________________________________ #\n",
    "chicago = location=[41.85, -87.68]\n",
    "\n",
    "m = folium.Map(chicago, zoom_start=10)\n",
    "\n",
    "plugins.Fullscreen(\n",
    "    position='topright',\n",
    "    title='Expand me',\n",
    "    title_cancel='Exit me',\n",
    "    force_separate_button=True).add_to(m)\n",
    "\n",
    "m.choropleth(\n",
    "    geo_data='community_areas.geojson',\n",
    "    name='choropleth',\n",
    "    data=df_damages_allyears,\n",
    "    columns=['Community Area', 'Arrest'],\n",
    "    key_on='feature.properties.area_numbe',\n",
    "    fill_color='YlOrRd', \n",
    "    fill_opacity=0.4, \n",
    "    line_opacity=0.85,\n",
    "    legend_name='Choropleth of Damages per Community Area: 2001-2017',\n",
    "    highlight=True\n",
    ")\n",
    "\n",
    "folium.TileLayer('openstreetmap').add_to(m)\n",
    "folium.TileLayer('cartodbpositron').add_to(m)\n",
    "#folium.TileLayer('major_section_1').add_to(m)\n",
    "folium.LayerControl().add_to(m)\n",
    "m.save(\"map6.html\") \n",
    "IFrame('map6.html', width=900, height=700)"
   ]
  },
  {
   "cell_type": "code",
   "execution_count": 70,
   "metadata": {},
   "outputs": [
    {
     "data": {
      "text/html": [
       "\n",
       "        <iframe\n",
       "            width=\"900\"\n",
       "            height=\"700\"\n",
       "            src=\"map7.html\"\n",
       "            frameborder=\"0\"\n",
       "            allowfullscreen\n",
       "        ></iframe>\n",
       "        "
      ],
      "text/plain": [
       "<IPython.lib.display.IFrame at 0x23310763080>"
      ]
     },
     "execution_count": 70,
     "metadata": {},
     "output_type": "execute_result"
    }
   ],
   "source": [
    "df_murder = finaldatasets.loc[finaldatasets['Primary Crime Type'] == 'MURDER']\n",
    "df_murder.dropna()\n",
    "\n",
    "keep_cols = ['Date','Primary Type','Location Description','Arrest','District','Community Area','Year']\n",
    "df_murder = df_murder[keep_cols].reset_index()\n",
    "\n",
    "df_murder_allyears = df_murder.groupby(['Community Area']).count().Arrest.reset_index()\n",
    "df_murder_allyears['Community Area'] = df_murder['Community Area'].apply(toString)\n",
    "# ______________________________________________________ #\n",
    "chicago = location=[41.85, -87.68]\n",
    "\n",
    "m = folium.Map(chicago, zoom_start=10)\n",
    "\n",
    "plugins.Fullscreen(\n",
    "    position='topright',\n",
    "    title='Expand me',\n",
    "    title_cancel='Exit me',\n",
    "    force_separate_button=True).add_to(m)\n",
    "\n",
    "m.choropleth(\n",
    "    geo_data='community_areas.geojson',\n",
    "    name='choropleth',\n",
    "    data=df_murder_allyears,\n",
    "    columns=['Community Area', 'Arrest'],\n",
    "    key_on='feature.properties.area_numbe',\n",
    "    fill_color='YlOrRd', \n",
    "    fill_opacity=0.4, \n",
    "    line_opacity=0.85,\n",
    "    legend_name='Choropleth of Murder per Community Area: 2001-2017',\n",
    "    highlight=True\n",
    ")\n",
    "\n",
    "folium.TileLayer('openstreetmap').add_to(m)\n",
    "folium.TileLayer('cartodbpositron').add_to(m)\n",
    "#folium.TileLayer('major_section_1').add_to(m)\n",
    "folium.LayerControl().add_to(m)\n",
    "m.save(\"map7.html\") \n",
    "IFrame('map7.html', width=900, height=700)"
   ]
  },
  {
   "cell_type": "code",
   "execution_count": 71,
   "metadata": {},
   "outputs": [
    {
     "data": {
      "text/html": [
       "\n",
       "        <iframe\n",
       "            width=\"900\"\n",
       "            height=\"700\"\n",
       "            src=\"map8.html\"\n",
       "            frameborder=\"0\"\n",
       "            allowfullscreen\n",
       "        ></iframe>\n",
       "        "
      ],
      "text/plain": [
       "<IPython.lib.display.IFrame at 0x2331056ed68>"
      ]
     },
     "execution_count": 71,
     "metadata": {},
     "output_type": "execute_result"
    }
   ],
   "source": [
    "df_kidnapping = finaldatasets.loc[finaldatasets['Primary Crime Type'] == 'KIDNAPPING']\n",
    "df_kidnapping.dropna()\n",
    "\n",
    "keep_cols = ['Date','Primary Type','Location Description','Arrest','District','Community Area','Year']\n",
    "df_kidnapping = df_kidnapping[keep_cols].reset_index()\n",
    "\n",
    "df_kidnapping_allyears = df_kidnapping.groupby(['Community Area']).count().Arrest.reset_index()\n",
    "df_kidnapping_allyears['Community Area'] = df_kidnapping['Community Area'].apply(toString)\n",
    "# ______________________________________________________ #\n",
    "chicago = location=[41.85, -87.68]\n",
    "\n",
    "m = folium.Map(chicago, zoom_start=10)\n",
    "\n",
    "plugins.Fullscreen(\n",
    "    position='topright',\n",
    "    title='Expand me',\n",
    "    title_cancel='Exit me',\n",
    "    force_separate_button=True).add_to(m)\n",
    "\n",
    "m.choropleth(\n",
    "    geo_data='community_areas.geojson',\n",
    "    name='choropleth',\n",
    "    data=df_kidnapping_allyears,\n",
    "    columns=['Community Area', 'Arrest'],\n",
    "    key_on='feature.properties.area_numbe',\n",
    "    fill_color='YlOrRd', \n",
    "    fill_opacity=0.4, \n",
    "    line_opacity=0.85,\n",
    "    legend_name='Choropleth of Kidnapping per Community Area: 2001-2017',\n",
    "    highlight=True\n",
    ")\n",
    "\n",
    "folium.TileLayer('openstreetmap').add_to(m)\n",
    "folium.TileLayer('cartodbpositron').add_to(m)\n",
    "#folium.TileLayer('major_section_1').add_to(m)\n",
    "folium.LayerControl().add_to(m)\n",
    "m.save(\"map8.html\") \n",
    "IFrame('map8.html', width=900, height=700)"
   ]
  },
  {
   "cell_type": "code",
   "execution_count": 72,
   "metadata": {},
   "outputs": [
    {
     "data": {
      "text/html": [
       "\n",
       "        <iframe\n",
       "            width=\"900\"\n",
       "            height=\"700\"\n",
       "            src=\"map9.html\"\n",
       "            frameborder=\"0\"\n",
       "            allowfullscreen\n",
       "        ></iframe>\n",
       "        "
      ],
      "text/plain": [
       "<IPython.lib.display.IFrame at 0x23314119438>"
      ]
     },
     "execution_count": 72,
     "metadata": {},
     "output_type": "execute_result"
    }
   ],
   "source": [
    "df_other = finaldatasets.loc[finaldatasets['Primary Crime Type'] == 'OTHER']\n",
    "df_other.dropna()\n",
    "\n",
    "keep_cols = ['Date','Primary Type','Location Description','Arrest','District','Community Area','Year']\n",
    "df_other = df_other[keep_cols].reset_index()\n",
    "\n",
    "df_other_allyears = df_other.groupby(['Community Area']).count().Arrest.reset_index()\n",
    "df_other_allyears['Community Area'] = df_other['Community Area'].apply(toString)\n",
    "# ______________________________________________________ #\n",
    "chicago = location=[41.85, -87.68]\n",
    "\n",
    "m = folium.Map(chicago, zoom_start=10)\n",
    "\n",
    "plugins.Fullscreen(\n",
    "    position='topright',\n",
    "    title='Expand me',\n",
    "    title_cancel='Exit me',\n",
    "    force_separate_button=True).add_to(m)\n",
    "\n",
    "m.choropleth(\n",
    "    geo_data='community_areas.geojson',\n",
    "    name='choropleth',\n",
    "    data=df_other_allyears,\n",
    "    columns=['Community Area', 'Arrest'],\n",
    "    key_on='feature.properties.area_numbe',\n",
    "    fill_color='YlOrRd', \n",
    "    fill_opacity=0.4, \n",
    "    line_opacity=0.85,\n",
    "    legend_name='Choropleth of Other per Community Area: 2001-2017',\n",
    "    highlight=True\n",
    ")\n",
    "\n",
    "folium.TileLayer('openstreetmap').add_to(m)\n",
    "folium.TileLayer('cartodbpositron').add_to(m)\n",
    "#folium.TileLayer('major_section_1').add_to(m)\n",
    "folium.LayerControl().add_to(m)\n",
    "m.save(\"map9.html\") \n",
    "IFrame('map9.html', width=900, height=700)"
   ]
  },
  {
   "cell_type": "code",
   "execution_count": 73,
   "metadata": {},
   "outputs": [],
   "source": [
    "#Classification"
   ]
  },
  {
   "cell_type": "code",
   "execution_count": 74,
   "metadata": {},
   "outputs": [
    {
     "data": {
      "text/html": [
       "<div>\n",
       "<style scoped>\n",
       "    .dataframe tbody tr th:only-of-type {\n",
       "        vertical-align: middle;\n",
       "    }\n",
       "\n",
       "    .dataframe tbody tr th {\n",
       "        vertical-align: top;\n",
       "    }\n",
       "\n",
       "    .dataframe thead th {\n",
       "        text-align: right;\n",
       "    }\n",
       "</style>\n",
       "<table border=\"1\" class=\"dataframe\">\n",
       "  <thead>\n",
       "    <tr style=\"text-align: right;\">\n",
       "      <th></th>\n",
       "      <th>District</th>\n",
       "      <th>Community Area</th>\n",
       "      <th>Year</th>\n",
       "    </tr>\n",
       "  </thead>\n",
       "  <tbody>\n",
       "    <tr>\n",
       "      <th>District</th>\n",
       "      <td>1.00000</td>\n",
       "      <td>0.498560</td>\n",
       "      <td>0.001870</td>\n",
       "    </tr>\n",
       "    <tr>\n",
       "      <th>Community Area</th>\n",
       "      <td>0.49856</td>\n",
       "      <td>1.000000</td>\n",
       "      <td>0.000188</td>\n",
       "    </tr>\n",
       "    <tr>\n",
       "      <th>Year</th>\n",
       "      <td>0.00187</td>\n",
       "      <td>0.000188</td>\n",
       "      <td>1.000000</td>\n",
       "    </tr>\n",
       "  </tbody>\n",
       "</table>\n",
       "</div>"
      ],
      "text/plain": [
       "                District  Community Area      Year\n",
       "District         1.00000        0.498560  0.001870\n",
       "Community Area   0.49856        1.000000  0.000188\n",
       "Year             0.00187        0.000188  1.000000"
      ]
     },
     "execution_count": 74,
     "metadata": {},
     "output_type": "execute_result"
    }
   ],
   "source": [
    "#Finding Correlation\n",
    "\n",
    "corr_matrix = finaldatasets.corr().abs()\n",
    "corr_matrix.head()\n",
    "# x_train, x_test, y_train, y_test = train_test_split(finaldatasets[['Total Population','Percent White, not Hispanic or Latino','Percent Black, not Hispanic or Latino','Percent Hispanic or Latino','Percent Foreign Born','Percent Female','Percent Age 29 and Under','Percent Age 65 and Older','Median Household Income','Percent Unemployed','Percent Less than High School Degree','Percent Rural','Percent Less than Bachelor\\'s Degree']], df['Party'], random_state = 0, test_size = 0.25)\n"
   ]
  },
  {
   "cell_type": "code",
   "execution_count": 75,
   "metadata": {},
   "outputs": [],
   "source": [
    "#[Date, Year, TimePeriod, Primary Crime Type, Arrest, Community Area, District, Major Section, Loc Type]\n",
    "finaldatasets = finaldatasets[finaldatasets['Loc Type'] != '']"
   ]
  },
  {
   "cell_type": "code",
   "execution_count": 76,
   "metadata": {},
   "outputs": [],
   "source": [
    "finaldatasets['Loc Type N'] = finaldatasets['Loc Type'].replace({'RESIDENTIAL':1,'OTHER':2,'COMMERCIAL':3,'PUBLIC':4,'HEALTHCARE FACILITY':5,'PLACE OF WORSHIP':6,'EDUCATION':7,'PRIVATE':8,'GOVERNMENT':9})\n"
   ]
  },
  {
   "cell_type": "code",
   "execution_count": 77,
   "metadata": {},
   "outputs": [],
   "source": [
    "finaldatasets['Major Section N'] = finaldatasets['Major Section'].replace({'Far Southeast side': 1,\n",
    " 'Southwest side': 2,\n",
    " 'North side': 3,\n",
    " 'Northwest side': 4,\n",
    " 'West side': 5,\n",
    " 'Far Southwest side': 6,\n",
    " 'Central': 7,\n",
    " 'Far North side': 8,\n",
    " 'South side': 9})"
   ]
  },
  {
   "cell_type": "code",
   "execution_count": 78,
   "metadata": {},
   "outputs": [],
   "source": [
    "finaldatasets['Primary Crime Type N'] = finaldatasets['Primary Crime Type'].replace({'THEFT': 1,\n",
    " 'OFFENSE': 2,\n",
    " 'ASSAULT': 3,\n",
    " 'OTHER': 4,\n",
    " 'VIOLATION': 5,\n",
    " 'WHITE COLLAR CRIME': 6,\n",
    " 'DAMAGES': 7,\n",
    " 'MURDER': 8,\n",
    " 'KIDNAPPING': 9})"
   ]
  },
  {
   "cell_type": "code",
   "execution_count": 79,
   "metadata": {},
   "outputs": [],
   "source": [
    "finaldatasets['Arrest N'] = np.where(finaldatasets['Arrest']=='True', 1, 0)"
   ]
  },
  {
   "cell_type": "code",
   "execution_count": 80,
   "metadata": {},
   "outputs": [],
   "source": [
    "finaldatasets['TimePeriod N'] = finaldatasets['TimePeriod'].replace({'Night': 1, 'Morning': 2, 'Evening': 3, 'Noon': 4})"
   ]
  },
  {
   "cell_type": "code",
   "execution_count": 81,
   "metadata": {},
   "outputs": [
    {
     "data": {
      "text/plain": [
       "Index(['Date', 'Primary Type', 'Location Description', 'Arrest', 'District',\n",
       "       'Community Area', 'Year', 'date_id1', 'date_id2', 'day', 'month',\n",
       "       'year', 'Seasons', 'hour', 'minute', 'second', 'dayperiod',\n",
       "       'TimePeriod', 'Major Section', 'Primary Crime Type', 'Loc Type',\n",
       "       'Loc Type N', 'Major Section N', 'Primary Crime Type N', 'Arrest N',\n",
       "       'TimePeriod N'],\n",
       "      dtype='object')"
      ]
     },
     "execution_count": 81,
     "metadata": {},
     "output_type": "execute_result"
    }
   ],
   "source": [
    "finaldatasets.columns"
   ]
  },
  {
   "cell_type": "code",
   "execution_count": 82,
   "metadata": {},
   "outputs": [
    {
     "data": {
      "text/html": [
       "<div>\n",
       "<style scoped>\n",
       "    .dataframe tbody tr th:only-of-type {\n",
       "        vertical-align: middle;\n",
       "    }\n",
       "\n",
       "    .dataframe tbody tr th {\n",
       "        vertical-align: top;\n",
       "    }\n",
       "\n",
       "    .dataframe thead th {\n",
       "        text-align: right;\n",
       "    }\n",
       "</style>\n",
       "<table border=\"1\" class=\"dataframe\">\n",
       "  <thead>\n",
       "    <tr style=\"text-align: right;\">\n",
       "      <th></th>\n",
       "      <th>District</th>\n",
       "      <th>Community Area</th>\n",
       "      <th>Year</th>\n",
       "      <th>Loc Type N</th>\n",
       "      <th>Major Section N</th>\n",
       "      <th>Primary Crime Type N</th>\n",
       "      <th>Arrest N</th>\n",
       "      <th>TimePeriod N</th>\n",
       "    </tr>\n",
       "  </thead>\n",
       "  <tbody>\n",
       "    <tr>\n",
       "      <th>District</th>\n",
       "      <td>1.000000</td>\n",
       "      <td>0.498559</td>\n",
       "      <td>0.002015</td>\n",
       "      <td>0.018129</td>\n",
       "      <td>0.054199</td>\n",
       "      <td>0.018806</td>\n",
       "      <td>0.001308</td>\n",
       "      <td>0.027981</td>\n",
       "    </tr>\n",
       "    <tr>\n",
       "      <th>Community Area</th>\n",
       "      <td>0.498559</td>\n",
       "      <td>1.000000</td>\n",
       "      <td>0.000415</td>\n",
       "      <td>0.037661</td>\n",
       "      <td>0.233335</td>\n",
       "      <td>0.030205</td>\n",
       "      <td>0.001390</td>\n",
       "      <td>0.008540</td>\n",
       "    </tr>\n",
       "    <tr>\n",
       "      <th>Year</th>\n",
       "      <td>0.002015</td>\n",
       "      <td>0.000415</td>\n",
       "      <td>1.000000</td>\n",
       "      <td>0.016252</td>\n",
       "      <td>0.004490</td>\n",
       "      <td>0.028458</td>\n",
       "      <td>0.001277</td>\n",
       "      <td>0.016699</td>\n",
       "    </tr>\n",
       "    <tr>\n",
       "      <th>Loc Type N</th>\n",
       "      <td>0.018129</td>\n",
       "      <td>0.037661</td>\n",
       "      <td>0.016252</td>\n",
       "      <td>1.000000</td>\n",
       "      <td>0.015153</td>\n",
       "      <td>0.066556</td>\n",
       "      <td>0.012249</td>\n",
       "      <td>0.037195</td>\n",
       "    </tr>\n",
       "    <tr>\n",
       "      <th>Major Section N</th>\n",
       "      <td>0.054199</td>\n",
       "      <td>0.233335</td>\n",
       "      <td>0.004490</td>\n",
       "      <td>0.015153</td>\n",
       "      <td>1.000000</td>\n",
       "      <td>0.014653</td>\n",
       "      <td>0.000485</td>\n",
       "      <td>0.013950</td>\n",
       "    </tr>\n",
       "    <tr>\n",
       "      <th>Primary Crime Type N</th>\n",
       "      <td>0.018806</td>\n",
       "      <td>0.030205</td>\n",
       "      <td>0.028458</td>\n",
       "      <td>0.066556</td>\n",
       "      <td>0.014653</td>\n",
       "      <td>1.000000</td>\n",
       "      <td>0.023662</td>\n",
       "      <td>0.046746</td>\n",
       "    </tr>\n",
       "    <tr>\n",
       "      <th>Arrest N</th>\n",
       "      <td>0.001308</td>\n",
       "      <td>0.001390</td>\n",
       "      <td>0.001277</td>\n",
       "      <td>0.012249</td>\n",
       "      <td>0.000485</td>\n",
       "      <td>0.023662</td>\n",
       "      <td>1.000000</td>\n",
       "      <td>0.001658</td>\n",
       "    </tr>\n",
       "    <tr>\n",
       "      <th>TimePeriod N</th>\n",
       "      <td>0.027981</td>\n",
       "      <td>0.008540</td>\n",
       "      <td>0.016699</td>\n",
       "      <td>0.037195</td>\n",
       "      <td>0.013950</td>\n",
       "      <td>0.046746</td>\n",
       "      <td>0.001658</td>\n",
       "      <td>1.000000</td>\n",
       "    </tr>\n",
       "  </tbody>\n",
       "</table>\n",
       "</div>"
      ],
      "text/plain": [
       "                      District  Community Area      Year  Loc Type N  \\\n",
       "District              1.000000        0.498559  0.002015    0.018129   \n",
       "Community Area        0.498559        1.000000  0.000415    0.037661   \n",
       "Year                  0.002015        0.000415  1.000000    0.016252   \n",
       "Loc Type N            0.018129        0.037661  0.016252    1.000000   \n",
       "Major Section N       0.054199        0.233335  0.004490    0.015153   \n",
       "Primary Crime Type N  0.018806        0.030205  0.028458    0.066556   \n",
       "Arrest N              0.001308        0.001390  0.001277    0.012249   \n",
       "TimePeriod N          0.027981        0.008540  0.016699    0.037195   \n",
       "\n",
       "                      Major Section N  Primary Crime Type N  Arrest N  \\\n",
       "District                     0.054199              0.018806  0.001308   \n",
       "Community Area               0.233335              0.030205  0.001390   \n",
       "Year                         0.004490              0.028458  0.001277   \n",
       "Loc Type N                   0.015153              0.066556  0.012249   \n",
       "Major Section N              1.000000              0.014653  0.000485   \n",
       "Primary Crime Type N         0.014653              1.000000  0.023662   \n",
       "Arrest N                     0.000485              0.023662  1.000000   \n",
       "TimePeriod N                 0.013950              0.046746  0.001658   \n",
       "\n",
       "                      TimePeriod N  \n",
       "District                  0.027981  \n",
       "Community Area            0.008540  \n",
       "Year                      0.016699  \n",
       "Loc Type N                0.037195  \n",
       "Major Section N           0.013950  \n",
       "Primary Crime Type N      0.046746  \n",
       "Arrest N                  0.001658  \n",
       "TimePeriod N              1.000000  "
      ]
     },
     "execution_count": 82,
     "metadata": {},
     "output_type": "execute_result"
    }
   ],
   "source": [
    "corr_matrix = finaldatasets.corr().abs()\n",
    "corr_matrix"
   ]
  },
  {
   "cell_type": "code",
   "execution_count": 83,
   "metadata": {},
   "outputs": [
    {
     "data": {
      "text/html": [
       "<div>\n",
       "<style scoped>\n",
       "    .dataframe tbody tr th:only-of-type {\n",
       "        vertical-align: middle;\n",
       "    }\n",
       "\n",
       "    .dataframe tbody tr th {\n",
       "        vertical-align: top;\n",
       "    }\n",
       "\n",
       "    .dataframe thead th {\n",
       "        text-align: right;\n",
       "    }\n",
       "</style>\n",
       "<table border=\"1\" class=\"dataframe\">\n",
       "  <thead>\n",
       "    <tr style=\"text-align: right;\">\n",
       "      <th></th>\n",
       "      <th>District</th>\n",
       "      <th>Community Area</th>\n",
       "      <th>Year</th>\n",
       "      <th>Loc Type N</th>\n",
       "      <th>Major Section N</th>\n",
       "      <th>Primary Crime Type N</th>\n",
       "      <th>Arrest N</th>\n",
       "      <th>TimePeriod N</th>\n",
       "    </tr>\n",
       "  </thead>\n",
       "  <tbody>\n",
       "    <tr>\n",
       "      <th>District</th>\n",
       "      <td>NaN</td>\n",
       "      <td>0.498559</td>\n",
       "      <td>0.002015</td>\n",
       "      <td>0.018129</td>\n",
       "      <td>0.054199</td>\n",
       "      <td>0.018806</td>\n",
       "      <td>0.001308</td>\n",
       "      <td>0.027981</td>\n",
       "    </tr>\n",
       "    <tr>\n",
       "      <th>Community Area</th>\n",
       "      <td>NaN</td>\n",
       "      <td>NaN</td>\n",
       "      <td>0.000415</td>\n",
       "      <td>0.037661</td>\n",
       "      <td>0.233335</td>\n",
       "      <td>0.030205</td>\n",
       "      <td>0.001390</td>\n",
       "      <td>0.008540</td>\n",
       "    </tr>\n",
       "    <tr>\n",
       "      <th>Year</th>\n",
       "      <td>NaN</td>\n",
       "      <td>NaN</td>\n",
       "      <td>NaN</td>\n",
       "      <td>0.016252</td>\n",
       "      <td>0.004490</td>\n",
       "      <td>0.028458</td>\n",
       "      <td>0.001277</td>\n",
       "      <td>0.016699</td>\n",
       "    </tr>\n",
       "    <tr>\n",
       "      <th>Loc Type N</th>\n",
       "      <td>NaN</td>\n",
       "      <td>NaN</td>\n",
       "      <td>NaN</td>\n",
       "      <td>NaN</td>\n",
       "      <td>0.015153</td>\n",
       "      <td>0.066556</td>\n",
       "      <td>0.012249</td>\n",
       "      <td>0.037195</td>\n",
       "    </tr>\n",
       "    <tr>\n",
       "      <th>Major Section N</th>\n",
       "      <td>NaN</td>\n",
       "      <td>NaN</td>\n",
       "      <td>NaN</td>\n",
       "      <td>NaN</td>\n",
       "      <td>NaN</td>\n",
       "      <td>0.014653</td>\n",
       "      <td>0.000485</td>\n",
       "      <td>0.013950</td>\n",
       "    </tr>\n",
       "  </tbody>\n",
       "</table>\n",
       "</div>"
      ],
      "text/plain": [
       "                 District  Community Area      Year  Loc Type N  \\\n",
       "District              NaN        0.498559  0.002015    0.018129   \n",
       "Community Area        NaN             NaN  0.000415    0.037661   \n",
       "Year                  NaN             NaN       NaN    0.016252   \n",
       "Loc Type N            NaN             NaN       NaN         NaN   \n",
       "Major Section N       NaN             NaN       NaN         NaN   \n",
       "\n",
       "                 Major Section N  Primary Crime Type N  Arrest N  TimePeriod N  \n",
       "District                0.054199              0.018806  0.001308      0.027981  \n",
       "Community Area          0.233335              0.030205  0.001390      0.008540  \n",
       "Year                    0.004490              0.028458  0.001277      0.016699  \n",
       "Loc Type N              0.015153              0.066556  0.012249      0.037195  \n",
       "Major Section N              NaN              0.014653  0.000485      0.013950  "
      ]
     },
     "execution_count": 83,
     "metadata": {},
     "output_type": "execute_result"
    }
   ],
   "source": [
    "upper = corr_matrix.where(np.triu(np.ones(corr_matrix.shape), k=1).astype(np.bool))\n",
    "upper.head()"
   ]
  },
  {
   "cell_type": "code",
   "execution_count": 84,
   "metadata": {},
   "outputs": [],
   "source": [
    "threshold = 0.9\n",
    "to_drop = [column for column in upper.columns if any(upper[column] > threshold)]"
   ]
  },
  {
   "cell_type": "code",
   "execution_count": 85,
   "metadata": {},
   "outputs": [
    {
     "data": {
      "text/plain": [
       "[]"
      ]
     },
     "execution_count": 85,
     "metadata": {},
     "output_type": "execute_result"
    }
   ],
   "source": [
    "to_drop"
   ]
  },
  {
   "cell_type": "code",
   "execution_count": 86,
   "metadata": {},
   "outputs": [],
   "source": [
    "finaldatasets = finaldatasets.iloc[::4,:]\n",
    "finaldatasets = finaldatasets.iloc[::4,:]\n",
    "# finaldatasets = finaldatasets.iloc[::4,:]"
   ]
  },
  {
   "cell_type": "code",
   "execution_count": 87,
   "metadata": {},
   "outputs": [
    {
     "data": {
      "text/plain": [
       "(452319, 26)"
      ]
     },
     "execution_count": 87,
     "metadata": {},
     "output_type": "execute_result"
    }
   ],
   "source": [
    "# finaldatasets = finaldatasets.iloc[::4,:]\n",
    "finaldatasets.shape"
   ]
  },
  {
   "cell_type": "code",
   "execution_count": 88,
   "metadata": {},
   "outputs": [
    {
     "data": {
      "text/html": [
       "<div>\n",
       "<style scoped>\n",
       "    .dataframe tbody tr th:only-of-type {\n",
       "        vertical-align: middle;\n",
       "    }\n",
       "\n",
       "    .dataframe tbody tr th {\n",
       "        vertical-align: top;\n",
       "    }\n",
       "\n",
       "    .dataframe thead th {\n",
       "        text-align: right;\n",
       "    }\n",
       "</style>\n",
       "<table border=\"1\" class=\"dataframe\">\n",
       "  <thead>\n",
       "    <tr style=\"text-align: right;\">\n",
       "      <th></th>\n",
       "      <th>TimePeriod N</th>\n",
       "      <th>Major Section N</th>\n",
       "      <th>Loc Type N</th>\n",
       "      <th>Arrest N</th>\n",
       "    </tr>\n",
       "  </thead>\n",
       "  <tbody>\n",
       "    <tr>\n",
       "      <th>1154047</th>\n",
       "      <td>3</td>\n",
       "      <td>9</td>\n",
       "      <td>4</td>\n",
       "      <td>0</td>\n",
       "    </tr>\n",
       "    <tr>\n",
       "      <th>1216341</th>\n",
       "      <td>1</td>\n",
       "      <td>2</td>\n",
       "      <td>4</td>\n",
       "      <td>0</td>\n",
       "    </tr>\n",
       "    <tr>\n",
       "      <th>117905</th>\n",
       "      <td>1</td>\n",
       "      <td>2</td>\n",
       "      <td>1</td>\n",
       "      <td>0</td>\n",
       "    </tr>\n",
       "    <tr>\n",
       "      <th>25953</th>\n",
       "      <td>3</td>\n",
       "      <td>9</td>\n",
       "      <td>1</td>\n",
       "      <td>0</td>\n",
       "    </tr>\n",
       "    <tr>\n",
       "      <th>791167</th>\n",
       "      <td>3</td>\n",
       "      <td>2</td>\n",
       "      <td>2</td>\n",
       "      <td>0</td>\n",
       "    </tr>\n",
       "    <tr>\n",
       "      <th>2552373</th>\n",
       "      <td>3</td>\n",
       "      <td>5</td>\n",
       "      <td>4</td>\n",
       "      <td>0</td>\n",
       "    </tr>\n",
       "    <tr>\n",
       "      <th>1866074</th>\n",
       "      <td>1</td>\n",
       "      <td>5</td>\n",
       "      <td>4</td>\n",
       "      <td>0</td>\n",
       "    </tr>\n",
       "    <tr>\n",
       "      <th>1032398</th>\n",
       "      <td>1</td>\n",
       "      <td>5</td>\n",
       "      <td>4</td>\n",
       "      <td>0</td>\n",
       "    </tr>\n",
       "    <tr>\n",
       "      <th>1253970</th>\n",
       "      <td>2</td>\n",
       "      <td>8</td>\n",
       "      <td>1</td>\n",
       "      <td>0</td>\n",
       "    </tr>\n",
       "    <tr>\n",
       "      <th>558860</th>\n",
       "      <td>1</td>\n",
       "      <td>2</td>\n",
       "      <td>1</td>\n",
       "      <td>0</td>\n",
       "    </tr>\n",
       "    <tr>\n",
       "      <th>1415406</th>\n",
       "      <td>2</td>\n",
       "      <td>6</td>\n",
       "      <td>1</td>\n",
       "      <td>0</td>\n",
       "    </tr>\n",
       "    <tr>\n",
       "      <th>921521</th>\n",
       "      <td>3</td>\n",
       "      <td>4</td>\n",
       "      <td>4</td>\n",
       "      <td>0</td>\n",
       "    </tr>\n",
       "    <tr>\n",
       "      <th>354148</th>\n",
       "      <td>1</td>\n",
       "      <td>9</td>\n",
       "      <td>1</td>\n",
       "      <td>0</td>\n",
       "    </tr>\n",
       "    <tr>\n",
       "      <th>2222603</th>\n",
       "      <td>3</td>\n",
       "      <td>8</td>\n",
       "      <td>4</td>\n",
       "      <td>0</td>\n",
       "    </tr>\n",
       "    <tr>\n",
       "      <th>276290</th>\n",
       "      <td>3</td>\n",
       "      <td>2</td>\n",
       "      <td>1</td>\n",
       "      <td>0</td>\n",
       "    </tr>\n",
       "    <tr>\n",
       "      <th>759878</th>\n",
       "      <td>1</td>\n",
       "      <td>7</td>\n",
       "      <td>4</td>\n",
       "      <td>0</td>\n",
       "    </tr>\n",
       "    <tr>\n",
       "      <th>2445611</th>\n",
       "      <td>4</td>\n",
       "      <td>2</td>\n",
       "      <td>4</td>\n",
       "      <td>0</td>\n",
       "    </tr>\n",
       "    <tr>\n",
       "      <th>1134508</th>\n",
       "      <td>3</td>\n",
       "      <td>4</td>\n",
       "      <td>9</td>\n",
       "      <td>0</td>\n",
       "    </tr>\n",
       "    <tr>\n",
       "      <th>328988</th>\n",
       "      <td>4</td>\n",
       "      <td>2</td>\n",
       "      <td>1</td>\n",
       "      <td>0</td>\n",
       "    </tr>\n",
       "    <tr>\n",
       "      <th>1793273</th>\n",
       "      <td>4</td>\n",
       "      <td>5</td>\n",
       "      <td>3</td>\n",
       "      <td>0</td>\n",
       "    </tr>\n",
       "    <tr>\n",
       "      <th>1069211</th>\n",
       "      <td>4</td>\n",
       "      <td>5</td>\n",
       "      <td>1</td>\n",
       "      <td>0</td>\n",
       "    </tr>\n",
       "    <tr>\n",
       "      <th>1302825</th>\n",
       "      <td>4</td>\n",
       "      <td>5</td>\n",
       "      <td>1</td>\n",
       "      <td>0</td>\n",
       "    </tr>\n",
       "    <tr>\n",
       "      <th>2683710</th>\n",
       "      <td>1</td>\n",
       "      <td>4</td>\n",
       "      <td>1</td>\n",
       "      <td>0</td>\n",
       "    </tr>\n",
       "    <tr>\n",
       "      <th>371900</th>\n",
       "      <td>4</td>\n",
       "      <td>1</td>\n",
       "      <td>1</td>\n",
       "      <td>0</td>\n",
       "    </tr>\n",
       "    <tr>\n",
       "      <th>81869</th>\n",
       "      <td>1</td>\n",
       "      <td>9</td>\n",
       "      <td>8</td>\n",
       "      <td>0</td>\n",
       "    </tr>\n",
       "    <tr>\n",
       "      <th>1276034</th>\n",
       "      <td>1</td>\n",
       "      <td>5</td>\n",
       "      <td>1</td>\n",
       "      <td>0</td>\n",
       "    </tr>\n",
       "    <tr>\n",
       "      <th>1089700</th>\n",
       "      <td>3</td>\n",
       "      <td>1</td>\n",
       "      <td>3</td>\n",
       "      <td>0</td>\n",
       "    </tr>\n",
       "    <tr>\n",
       "      <th>2175970</th>\n",
       "      <td>3</td>\n",
       "      <td>3</td>\n",
       "      <td>4</td>\n",
       "      <td>0</td>\n",
       "    </tr>\n",
       "    <tr>\n",
       "      <th>1685625</th>\n",
       "      <td>3</td>\n",
       "      <td>4</td>\n",
       "      <td>1</td>\n",
       "      <td>0</td>\n",
       "    </tr>\n",
       "    <tr>\n",
       "      <th>1042445</th>\n",
       "      <td>4</td>\n",
       "      <td>1</td>\n",
       "      <td>7</td>\n",
       "      <td>0</td>\n",
       "    </tr>\n",
       "    <tr>\n",
       "      <th>...</th>\n",
       "      <td>...</td>\n",
       "      <td>...</td>\n",
       "      <td>...</td>\n",
       "      <td>...</td>\n",
       "    </tr>\n",
       "    <tr>\n",
       "      <th>1509950</th>\n",
       "      <td>1</td>\n",
       "      <td>9</td>\n",
       "      <td>4</td>\n",
       "      <td>0</td>\n",
       "    </tr>\n",
       "    <tr>\n",
       "      <th>391830</th>\n",
       "      <td>1</td>\n",
       "      <td>1</td>\n",
       "      <td>1</td>\n",
       "      <td>0</td>\n",
       "    </tr>\n",
       "    <tr>\n",
       "      <th>722179</th>\n",
       "      <td>1</td>\n",
       "      <td>5</td>\n",
       "      <td>1</td>\n",
       "      <td>0</td>\n",
       "    </tr>\n",
       "    <tr>\n",
       "      <th>776695</th>\n",
       "      <td>3</td>\n",
       "      <td>3</td>\n",
       "      <td>9</td>\n",
       "      <td>0</td>\n",
       "    </tr>\n",
       "    <tr>\n",
       "      <th>1203863</th>\n",
       "      <td>1</td>\n",
       "      <td>9</td>\n",
       "      <td>1</td>\n",
       "      <td>0</td>\n",
       "    </tr>\n",
       "    <tr>\n",
       "      <th>1437198</th>\n",
       "      <td>3</td>\n",
       "      <td>5</td>\n",
       "      <td>4</td>\n",
       "      <td>0</td>\n",
       "    </tr>\n",
       "    <tr>\n",
       "      <th>192843</th>\n",
       "      <td>1</td>\n",
       "      <td>5</td>\n",
       "      <td>4</td>\n",
       "      <td>0</td>\n",
       "    </tr>\n",
       "    <tr>\n",
       "      <th>822960</th>\n",
       "      <td>1</td>\n",
       "      <td>3</td>\n",
       "      <td>4</td>\n",
       "      <td>0</td>\n",
       "    </tr>\n",
       "    <tr>\n",
       "      <th>1373608</th>\n",
       "      <td>2</td>\n",
       "      <td>5</td>\n",
       "      <td>4</td>\n",
       "      <td>0</td>\n",
       "    </tr>\n",
       "    <tr>\n",
       "      <th>342160</th>\n",
       "      <td>2</td>\n",
       "      <td>9</td>\n",
       "      <td>4</td>\n",
       "      <td>0</td>\n",
       "    </tr>\n",
       "    <tr>\n",
       "      <th>585137</th>\n",
       "      <td>3</td>\n",
       "      <td>1</td>\n",
       "      <td>4</td>\n",
       "      <td>0</td>\n",
       "    </tr>\n",
       "    <tr>\n",
       "      <th>1194121</th>\n",
       "      <td>3</td>\n",
       "      <td>4</td>\n",
       "      <td>1</td>\n",
       "      <td>0</td>\n",
       "    </tr>\n",
       "    <tr>\n",
       "      <th>43470</th>\n",
       "      <td>4</td>\n",
       "      <td>4</td>\n",
       "      <td>3</td>\n",
       "      <td>0</td>\n",
       "    </tr>\n",
       "    <tr>\n",
       "      <th>71211</th>\n",
       "      <td>3</td>\n",
       "      <td>4</td>\n",
       "      <td>1</td>\n",
       "      <td>0</td>\n",
       "    </tr>\n",
       "    <tr>\n",
       "      <th>2663747</th>\n",
       "      <td>4</td>\n",
       "      <td>5</td>\n",
       "      <td>4</td>\n",
       "      <td>0</td>\n",
       "    </tr>\n",
       "    <tr>\n",
       "      <th>248678</th>\n",
       "      <td>2</td>\n",
       "      <td>1</td>\n",
       "      <td>4</td>\n",
       "      <td>0</td>\n",
       "    </tr>\n",
       "    <tr>\n",
       "      <th>285670</th>\n",
       "      <td>4</td>\n",
       "      <td>8</td>\n",
       "      <td>4</td>\n",
       "      <td>0</td>\n",
       "    </tr>\n",
       "    <tr>\n",
       "      <th>814188</th>\n",
       "      <td>4</td>\n",
       "      <td>8</td>\n",
       "      <td>4</td>\n",
       "      <td>0</td>\n",
       "    </tr>\n",
       "    <tr>\n",
       "      <th>2027478</th>\n",
       "      <td>3</td>\n",
       "      <td>2</td>\n",
       "      <td>4</td>\n",
       "      <td>0</td>\n",
       "    </tr>\n",
       "    <tr>\n",
       "      <th>1073422</th>\n",
       "      <td>4</td>\n",
       "      <td>9</td>\n",
       "      <td>2</td>\n",
       "      <td>0</td>\n",
       "    </tr>\n",
       "    <tr>\n",
       "      <th>1269154</th>\n",
       "      <td>4</td>\n",
       "      <td>5</td>\n",
       "      <td>8</td>\n",
       "      <td>0</td>\n",
       "    </tr>\n",
       "    <tr>\n",
       "      <th>396500</th>\n",
       "      <td>4</td>\n",
       "      <td>2</td>\n",
       "      <td>4</td>\n",
       "      <td>0</td>\n",
       "    </tr>\n",
       "    <tr>\n",
       "      <th>872847</th>\n",
       "      <td>3</td>\n",
       "      <td>5</td>\n",
       "      <td>4</td>\n",
       "      <td>0</td>\n",
       "    </tr>\n",
       "    <tr>\n",
       "      <th>700574</th>\n",
       "      <td>2</td>\n",
       "      <td>9</td>\n",
       "      <td>7</td>\n",
       "      <td>0</td>\n",
       "    </tr>\n",
       "    <tr>\n",
       "      <th>1488874</th>\n",
       "      <td>4</td>\n",
       "      <td>5</td>\n",
       "      <td>7</td>\n",
       "      <td>0</td>\n",
       "    </tr>\n",
       "    <tr>\n",
       "      <th>788703</th>\n",
       "      <td>4</td>\n",
       "      <td>1</td>\n",
       "      <td>3</td>\n",
       "      <td>0</td>\n",
       "    </tr>\n",
       "    <tr>\n",
       "      <th>1760948</th>\n",
       "      <td>4</td>\n",
       "      <td>9</td>\n",
       "      <td>1</td>\n",
       "      <td>0</td>\n",
       "    </tr>\n",
       "    <tr>\n",
       "      <th>451209</th>\n",
       "      <td>4</td>\n",
       "      <td>3</td>\n",
       "      <td>8</td>\n",
       "      <td>0</td>\n",
       "    </tr>\n",
       "    <tr>\n",
       "      <th>2548416</th>\n",
       "      <td>2</td>\n",
       "      <td>9</td>\n",
       "      <td>1</td>\n",
       "      <td>0</td>\n",
       "    </tr>\n",
       "    <tr>\n",
       "      <th>130132</th>\n",
       "      <td>4</td>\n",
       "      <td>1</td>\n",
       "      <td>3</td>\n",
       "      <td>0</td>\n",
       "    </tr>\n",
       "  </tbody>\n",
       "</table>\n",
       "<p>113080 rows × 4 columns</p>\n",
       "</div>"
      ],
      "text/plain": [
       "         TimePeriod N  Major Section N  Loc Type N  Arrest N\n",
       "1154047             3                9           4         0\n",
       "1216341             1                2           4         0\n",
       "117905              1                2           1         0\n",
       "25953               3                9           1         0\n",
       "791167              3                2           2         0\n",
       "2552373             3                5           4         0\n",
       "1866074             1                5           4         0\n",
       "1032398             1                5           4         0\n",
       "1253970             2                8           1         0\n",
       "558860              1                2           1         0\n",
       "1415406             2                6           1         0\n",
       "921521              3                4           4         0\n",
       "354148              1                9           1         0\n",
       "2222603             3                8           4         0\n",
       "276290              3                2           1         0\n",
       "759878              1                7           4         0\n",
       "2445611             4                2           4         0\n",
       "1134508             3                4           9         0\n",
       "328988              4                2           1         0\n",
       "1793273             4                5           3         0\n",
       "1069211             4                5           1         0\n",
       "1302825             4                5           1         0\n",
       "2683710             1                4           1         0\n",
       "371900              4                1           1         0\n",
       "81869               1                9           8         0\n",
       "1276034             1                5           1         0\n",
       "1089700             3                1           3         0\n",
       "2175970             3                3           4         0\n",
       "1685625             3                4           1         0\n",
       "1042445             4                1           7         0\n",
       "...               ...              ...         ...       ...\n",
       "1509950             1                9           4         0\n",
       "391830              1                1           1         0\n",
       "722179              1                5           1         0\n",
       "776695              3                3           9         0\n",
       "1203863             1                9           1         0\n",
       "1437198             3                5           4         0\n",
       "192843              1                5           4         0\n",
       "822960              1                3           4         0\n",
       "1373608             2                5           4         0\n",
       "342160              2                9           4         0\n",
       "585137              3                1           4         0\n",
       "1194121             3                4           1         0\n",
       "43470               4                4           3         0\n",
       "71211               3                4           1         0\n",
       "2663747             4                5           4         0\n",
       "248678              2                1           4         0\n",
       "285670              4                8           4         0\n",
       "814188              4                8           4         0\n",
       "2027478             3                2           4         0\n",
       "1073422             4                9           2         0\n",
       "1269154             4                5           8         0\n",
       "396500              4                2           4         0\n",
       "872847              3                5           4         0\n",
       "700574              2                9           7         0\n",
       "1488874             4                5           7         0\n",
       "788703              4                1           3         0\n",
       "1760948             4                9           1         0\n",
       "451209              4                3           8         0\n",
       "2548416             2                9           1         0\n",
       "130132              4                1           3         0\n",
       "\n",
       "[113080 rows x 4 columns]"
      ]
     },
     "execution_count": 88,
     "metadata": {},
     "output_type": "execute_result"
    }
   ],
   "source": [
    "#[Date, Year, TimePeriod, Primary Crime Type, Arrest, Community Area, District, Major Section, Loc Type]\n",
    "x_train, x_test, y_train, y_test = train_test_split(finaldatasets[['TimePeriod N','Major Section N','Loc Type N','Arrest N']], finaldatasets['Primary Crime Type N'], random_state = 0, test_size = 0.25)\n",
    "x_test"
   ]
  },
  {
   "cell_type": "code",
   "execution_count": 91,
   "metadata": {},
   "outputs": [
    {
     "data": {
      "text/plain": [
       "KNeighborsClassifier(algorithm='auto', leaf_size=30, metric='minkowski',\n",
       "                     metric_params=None, n_jobs=None, n_neighbors=3, p=2,\n",
       "                     weights='uniform')"
      ]
     },
     "execution_count": 91,
     "metadata": {},
     "output_type": "execute_result"
    }
   ],
   "source": [
    "classifier = KNeighborsClassifier(n_neighbors = 3)  \n",
    "classifier.fit(x_train, y_train)"
   ]
  },
  {
   "cell_type": "code",
   "execution_count": 92,
   "metadata": {},
   "outputs": [],
   "source": [
    "y_pred = classifier.predict(x_test)"
   ]
  },
  {
   "cell_type": "code",
   "execution_count": 93,
   "metadata": {},
   "outputs": [
    {
     "data": {
      "image/png": "[encoded data removed]",
      "text/plain": [
       "<Figure size 432x288 with 2 Axes>"
      ]
     },
     "metadata": {
      "needs_background": "light"
     },
     "output_type": "display_data"
    }
   ],
   "source": [
    "conf_matrix = metrics.confusion_matrix(y_test, y_pred)\n",
    "sns.heatmap(conf_matrix, annot = True, fmt = \".3f\", square = True, cmap = plt.cm.Blues)\n",
    "plt.ylabel('Actual')\n",
    "plt.xlabel('Predicted')\n",
    "plt.title('Confusion matrix')\n",
    "plt.rcParams['figure.figsize'] = 15, 15\n",
    "plt.tight_layout()"
   ]
  },
  {
   "cell_type": "code",
   "execution_count": 94,
   "metadata": {},
   "outputs": [
    {
     "name": "stdout",
     "output_type": "stream",
     "text": [
      "[0.3392023346303502, 0.6607976653696498, array([0.38563315, 0.13065089, 0.31509054, 0.05802708, 0.07920792,\n",
      "       0.3166696 , 0.13224299, 0.        , 0.        ]), array([0.6310778 , 0.06881077, 0.25290698, 0.03694581, 0.00136986,\n",
      "       0.38015074, 0.02114623, 0.        , 0.        ]), array([0.47872902, 0.09014453, 0.28059488, 0.04514673, 0.00269315,\n",
      "       0.34551857, 0.03646202, 0.        , 0.        ])]\n"
     ]
    },
    {
     "name": "stderr",
     "output_type": "stream",
     "text": [
      "C:\\Users\\ibray\\Anaconda3\\lib\\site-packages\\sklearn\\metrics\\classification.py:1437: UndefinedMetricWarning:\n",
      "\n",
      "Precision is ill-defined and being set to 0.0 in labels with no predicted samples.\n",
      "\n",
      "C:\\Users\\ibray\\Anaconda3\\lib\\site-packages\\sklearn\\metrics\\classification.py:1437: UndefinedMetricWarning:\n",
      "\n",
      "F-score is ill-defined and being set to 0.0 in labels with no predicted samples.\n",
      "\n"
     ]
    }
   ],
   "source": [
    "accuracy = metrics.accuracy_score(y_test, y_pred)\n",
    "error = 1 - metrics.accuracy_score(y_test, y_pred)\n",
    "precision = metrics.precision_score(y_test, y_pred, average = None)\n",
    "recall = metrics.recall_score(y_test, y_pred, average = None)\n",
    "F1_score = metrics.f1_score(y_test, y_pred, average = None)\n",
    "print([accuracy, error, precision, recall, F1_score])"
   ]
  },
  {
   "cell_type": "code",
   "execution_count": 95,
   "metadata": {},
   "outputs": [],
   "source": [
    "# clustering begin"
   ]
  },
  {
   "cell_type": "code",
   "execution_count": 96,
   "metadata": {},
   "outputs": [],
   "source": [
    "finaldatasets['Arrest_N'] = finaldatasets['Arrest'].replace({'True': 1, 'False': 0})\n",
    "#x_train, x_test, y_train, y_test = train_test_split(finaldatasets[['Year', 'TimePeriod N', 'Primary Crime Type N', 'Community Area', 'District', 'Major Section N', 'Loc Type N']], finaldatasets['Arrest N'], random_state = 0, test_size = 0.25, train_size=0.75)"
   ]
  },
  {
   "cell_type": "code",
   "execution_count": 97,
   "metadata": {},
   "outputs": [
    {
     "data": {
      "image/png": "[encoded data removed]",
      "text/plain": [
       "<Figure size 1080x1080 with 2 Axes>"
      ]
     },
     "metadata": {
      "needs_background": "light"
     },
     "output_type": "display_data"
    }
   ],
   "source": [
    "clustering_df = finaldatasets[['Year', 'TimePeriod N', 'Arrest_N','Primary Crime Type N', 'Community Area', 'District', 'Major Section N', 'Loc Type N']]\n",
    "clustering_df.replace([np.inf, -np.inf], np.nan, inplace=True)\n",
    "clustering_df.fillna(999, inplace=True)\n",
    "\n",
    "X = clustering_df.drop('Arrest_N', axis=1)\n",
    "Y = clustering_df['Arrest_N']\n",
    "\n",
    "scaler = StandardScaler()\n",
    "scaler.fit(X)\n",
    "clustering_df_scaled = scaler.transform(X)\n",
    "\n",
    "clustering = KMeans(n_clusters = 9, init='k-means++', n_init = 10, random_state=0)\n",
    "clustering.fit(X) #X\n",
    "clusters = clustering.labels_\n",
    "#print(clusters.shape)\n",
    "cont_matrix = metrics.cluster.contingency_matrix(Y, clusters)\n",
    "sns.heatmap(cont_matrix, annot = True, fmt = \".3f\", square = True, cmap = plt.cm.Blues)\n",
    "plt.ylabel('Actual')\n",
    "plt.xlabel('Predicted')\n",
    "plt.title('Contingency matrix')\n",
    "plt.tight_layout()\n",
    "\n",
    "# X, y_true = make_blobs(n_samples=200, n_features=8, centers=9, cluster_std=0.60, random_state=0)\n",
    "\n",
    "# # Create DataFrame\n",
    "# df = pd.DataFrame(X, columns=['Year', 'TimePeriod N', 'Primary Crime Type N', 'Arrest N', 'Community Area', 'District', 'Major Section N', 'Loc Type N'])\n",
    "\n",
    "# # Make k-means clusterer\n",
    "# clusterer = KMeans(9, random_state=1)\n",
    "\n",
    "# # Fit clusterer\n",
    "# clusterer.fit(X)\n",
    "\n",
    "# # Predict values\n",
    "# df['group'] = clusterer.predict(X)\n",
    "\n",
    "# # First few observations\n",
    "# df         , 'TimePeriod N', 'Primary Crime Type N', 'Community Area', 'District', 'Major Section N', 'Loc Type N']], finaldatasets['Arrest N'"
   ]
  },
  {
   "cell_type": "code",
   "execution_count": 100,
   "metadata": {},
   "outputs": [],
   "source": [
    "# adjusted_rand_index = metrics.adjusted_rand_score(Y, clusters)\n",
    "# silhouette_coefficient = metrics.silhouette_score(X, clusters, metric=\"euclidean\")\n",
    "# print([adjusted_rand_index, silhouette_coefficient])"
   ]
  },
  {
   "cell_type": "code",
   "execution_count": 99,
   "metadata": {},
   "outputs": [
    {
     "data": {
      "text/plain": [
       "[Text(0, 0.5, 'District'),\n",
       " Text(0.5, 0, 'Year'),\n",
       " Text(0.5, 1.0, 'Clustering of Year and Distrcit')]"
      ]
     },
     "execution_count": 99,
     "metadata": {},
     "output_type": "execute_result"
    },
    {
     "data": {
      "image/png": "[encoded data removed]",
      "text/plain": [
       "<Figure size 1080x1080 with 2 Axes>"
      ]
     },
     "metadata": {
      "needs_background": "light"
     },
     "output_type": "display_data"
    }
   ],
   "source": [
    "\n",
    "clustering_df['clusters'] = clusters\n",
    "ax = clustering_df.plot(kind = 'scatter', x = 'Year', y = 'District', c = 'clusters', colormap = plt.cm.brg)\n",
    "ax.set(title = 'Clustering of Year and Distrcit', xlabel = 'Year', ylabel = 'District')"
   ]
  },
  {
   "cell_type": "code",
   "execution_count": null,
   "metadata": {},
   "outputs": [],
   "source": []
  },
  {
   "cell_type": "code",
   "execution_count": null,
   "metadata": {},
   "outputs": [],
   "source": []
  },
  {
   "cell_type": "code",
   "execution_count": null,
   "metadata": {},
   "outputs": [],
   "source": []
  }
 ],
 "metadata": {
  "kernelspec": {
   "display_name": "Python 3",
   "language": "python",
   "name": "python3"
  },
  "language_info": {
   "codemirror_mode": {
    "name": "ipython",
    "version": 3
   },
   "file_extension": ".py",
   "mimetype": "text/x-python",
   "name": "python",
   "nbconvert_exporter": "python",
   "pygments_lexer": "ipython3",
   "version": "3.7.3"
  }
 },
 "nbformat": 4,
 "nbformat_minor": 4
}
